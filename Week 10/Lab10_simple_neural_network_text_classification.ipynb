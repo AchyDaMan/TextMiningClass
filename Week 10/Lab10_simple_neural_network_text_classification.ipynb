{
  "cells": [
    {
      "cell_type": "markdown",
      "metadata": {
        "id": "b4fZ-ZaFhJWS"
      },
      "source": [
        "## Lab10. Deep Learning for NLP -I - Text Classification using Feed Forward Networks\n",
        "\n",
        "In this tutorial, let's repeat what we did in Week 7 i.e., build a sentiment classification model. But this time we will build it using a deep feed forward neural architecture.\n",
        "\n",
        "**This tutorial is graded**. complete the exercises and turn in under week 10.\n",
        "\n",
        "### 1. What is Sentiment Analysis\n",
        "Sentiment analysis (SA), formally known as opinion mining, is a natural language processing (NLP) task that involves determining and quantifying the emotional tone or sentiment expressed within a piece of text, typically written or spoken language. In simple terms, sentiment analysis aims to classify text into predefined categories that represent the sentiment or emotional polarity conveyed by the text. These categories are typically binary, classifying text as either *positive* or *negative*, but they can also be more fine-grained, such as *positive*, *negative*, or *neutral*.\n",
        "\n",
        "We will use the IMDB Movie Review dataset again, which contains reviews and binary sentiment values\n",
        "\n",
        "**Note:** I have already extracted and provided the training and test data in the form of CSV files.\n",
        "- `train.csv` - Contains 80% of the IMDB data to be used for training classifiers.\n",
        "\n",
        "- `test.csv` - Contains 20% of the IMDB data to be used for training classifiers.\n",
        "\n",
        "Each CSV file has two columns\n",
        "\n",
        "- **text** : containing the movie review\n",
        "- **sentiment** : containing the original sentiment -- 0 representing negaitve and 1 representing positive\n",
        "\n",
        "Let's load the data in dataframes and vectorize the sentences.\n"
      ]
    },
    {
      "cell_type": "code",
      "execution_count": 1,
      "metadata": {},
      "outputs": [
        {
          "name": "stdout",
          "output_type": "stream",
          "text": [
            "Requirement already satisfied: keras in /usr/local/python/3.10.13/lib/python3.10/site-packages (3.1.1)\n",
            "Requirement already satisfied: absl-py in /usr/local/python/3.10.13/lib/python3.10/site-packages (from keras) (2.1.0)\n",
            "Requirement already satisfied: numpy in /home/codespace/.local/lib/python3.10/site-packages (from keras) (1.26.4)\n",
            "Requirement already satisfied: rich in /usr/local/python/3.10.13/lib/python3.10/site-packages (from keras) (13.7.1)\n",
            "Requirement already satisfied: namex in /usr/local/python/3.10.13/lib/python3.10/site-packages (from keras) (0.0.7)\n",
            "Requirement already satisfied: h5py in /usr/local/python/3.10.13/lib/python3.10/site-packages (from keras) (3.10.0)\n",
            "Requirement already satisfied: optree in /usr/local/python/3.10.13/lib/python3.10/site-packages (from keras) (0.10.0)\n",
            "Requirement already satisfied: ml-dtypes in /usr/local/python/3.10.13/lib/python3.10/site-packages (from keras) (0.3.2)\n",
            "Requirement already satisfied: typing-extensions>=4.0.0 in /home/codespace/.local/lib/python3.10/site-packages (from optree->keras) (4.10.0)\n",
            "Requirement already satisfied: markdown-it-py>=2.2.0 in /usr/local/python/3.10.13/lib/python3.10/site-packages (from rich->keras) (3.0.0)\n",
            "Requirement already satisfied: pygments<3.0.0,>=2.13.0 in /home/codespace/.local/lib/python3.10/site-packages (from rich->keras) (2.17.2)\n",
            "Requirement already satisfied: mdurl~=0.1 in /usr/local/python/3.10.13/lib/python3.10/site-packages (from markdown-it-py>=2.2.0->rich->keras) (0.1.2)\n",
            "Note: you may need to restart the kernel to use updated packages.\n",
            "Requirement already satisfied: tensorflow in /usr/local/python/3.10.13/lib/python3.10/site-packages (2.16.1)\n",
            "Requirement already satisfied: absl-py>=1.0.0 in /usr/local/python/3.10.13/lib/python3.10/site-packages (from tensorflow) (2.1.0)\n",
            "Requirement already satisfied: astunparse>=1.6.0 in /usr/local/python/3.10.13/lib/python3.10/site-packages (from tensorflow) (1.6.3)\n",
            "Requirement already satisfied: flatbuffers>=23.5.26 in /usr/local/python/3.10.13/lib/python3.10/site-packages (from tensorflow) (24.3.7)\n",
            "Requirement already satisfied: gast!=0.5.0,!=0.5.1,!=0.5.2,>=0.2.1 in /usr/local/python/3.10.13/lib/python3.10/site-packages (from tensorflow) (0.5.4)\n",
            "Requirement already satisfied: google-pasta>=0.1.1 in /usr/local/python/3.10.13/lib/python3.10/site-packages (from tensorflow) (0.2.0)\n",
            "Requirement already satisfied: h5py>=3.10.0 in /usr/local/python/3.10.13/lib/python3.10/site-packages (from tensorflow) (3.10.0)\n",
            "Requirement already satisfied: libclang>=13.0.0 in /usr/local/python/3.10.13/lib/python3.10/site-packages (from tensorflow) (18.1.1)\n",
            "Requirement already satisfied: ml-dtypes~=0.3.1 in /usr/local/python/3.10.13/lib/python3.10/site-packages (from tensorflow) (0.3.2)\n",
            "Requirement already satisfied: opt-einsum>=2.3.2 in /usr/local/python/3.10.13/lib/python3.10/site-packages (from tensorflow) (3.3.0)\n",
            "Requirement already satisfied: packaging in /home/codespace/.local/lib/python3.10/site-packages (from tensorflow) (23.2)\n",
            "Requirement already satisfied: protobuf!=4.21.0,!=4.21.1,!=4.21.2,!=4.21.3,!=4.21.4,!=4.21.5,<5.0.0dev,>=3.20.3 in /usr/local/python/3.10.13/lib/python3.10/site-packages (from tensorflow) (4.25.3)\n",
            "Requirement already satisfied: requests<3,>=2.21.0 in /home/codespace/.local/lib/python3.10/site-packages (from tensorflow) (2.31.0)\n",
            "Requirement already satisfied: setuptools in /usr/local/python/3.10.13/lib/python3.10/site-packages (from tensorflow) (68.2.2)\n",
            "Requirement already satisfied: six>=1.12.0 in /home/codespace/.local/lib/python3.10/site-packages (from tensorflow) (1.16.0)\n",
            "Requirement already satisfied: termcolor>=1.1.0 in /usr/local/python/3.10.13/lib/python3.10/site-packages (from tensorflow) (2.4.0)\n",
            "Requirement already satisfied: typing-extensions>=3.6.6 in /home/codespace/.local/lib/python3.10/site-packages (from tensorflow) (4.10.0)\n",
            "Requirement already satisfied: wrapt>=1.11.0 in /usr/local/python/3.10.13/lib/python3.10/site-packages (from tensorflow) (1.16.0)\n",
            "Requirement already satisfied: grpcio<2.0,>=1.24.3 in /usr/local/python/3.10.13/lib/python3.10/site-packages (from tensorflow) (1.62.1)\n",
            "Requirement already satisfied: tensorboard<2.17,>=2.16 in /usr/local/python/3.10.13/lib/python3.10/site-packages (from tensorflow) (2.16.2)\n",
            "Requirement already satisfied: keras>=3.0.0 in /usr/local/python/3.10.13/lib/python3.10/site-packages (from tensorflow) (3.1.1)\n",
            "Requirement already satisfied: tensorflow-io-gcs-filesystem>=0.23.1 in /usr/local/python/3.10.13/lib/python3.10/site-packages (from tensorflow) (0.36.0)\n",
            "Requirement already satisfied: numpy<2.0.0,>=1.23.5 in /home/codespace/.local/lib/python3.10/site-packages (from tensorflow) (1.26.4)\n",
            "Requirement already satisfied: wheel<1.0,>=0.23.0 in /usr/local/python/3.10.13/lib/python3.10/site-packages (from astunparse>=1.6.0->tensorflow) (0.43.0)\n",
            "Requirement already satisfied: rich in /usr/local/python/3.10.13/lib/python3.10/site-packages (from keras>=3.0.0->tensorflow) (13.7.1)\n",
            "Requirement already satisfied: namex in /usr/local/python/3.10.13/lib/python3.10/site-packages (from keras>=3.0.0->tensorflow) (0.0.7)\n",
            "Requirement already satisfied: optree in /usr/local/python/3.10.13/lib/python3.10/site-packages (from keras>=3.0.0->tensorflow) (0.10.0)\n",
            "Requirement already satisfied: charset-normalizer<4,>=2 in /home/codespace/.local/lib/python3.10/site-packages (from requests<3,>=2.21.0->tensorflow) (3.3.2)\n",
            "Requirement already satisfied: idna<4,>=2.5 in /home/codespace/.local/lib/python3.10/site-packages (from requests<3,>=2.21.0->tensorflow) (3.6)\n",
            "Requirement already satisfied: urllib3<3,>=1.21.1 in /usr/local/python/3.10.13/lib/python3.10/site-packages (from requests<3,>=2.21.0->tensorflow) (2.0.7)\n",
            "Requirement already satisfied: certifi>=2017.4.17 in /home/codespace/.local/lib/python3.10/site-packages (from requests<3,>=2.21.0->tensorflow) (2024.2.2)\n",
            "Requirement already satisfied: markdown>=2.6.8 in /usr/local/python/3.10.13/lib/python3.10/site-packages (from tensorboard<2.17,>=2.16->tensorflow) (3.6)\n",
            "Requirement already satisfied: tensorboard-data-server<0.8.0,>=0.7.0 in /usr/local/python/3.10.13/lib/python3.10/site-packages (from tensorboard<2.17,>=2.16->tensorflow) (0.7.2)\n",
            "Requirement already satisfied: werkzeug>=1.0.1 in /usr/local/python/3.10.13/lib/python3.10/site-packages (from tensorboard<2.17,>=2.16->tensorflow) (3.0.1)\n",
            "Requirement already satisfied: MarkupSafe>=2.1.1 in /home/codespace/.local/lib/python3.10/site-packages (from werkzeug>=1.0.1->tensorboard<2.17,>=2.16->tensorflow) (2.1.5)\n",
            "Requirement already satisfied: markdown-it-py>=2.2.0 in /usr/local/python/3.10.13/lib/python3.10/site-packages (from rich->keras>=3.0.0->tensorflow) (3.0.0)\n",
            "Requirement already satisfied: pygments<3.0.0,>=2.13.0 in /home/codespace/.local/lib/python3.10/site-packages (from rich->keras>=3.0.0->tensorflow) (2.17.2)\n",
            "Requirement already satisfied: mdurl~=0.1 in /usr/local/python/3.10.13/lib/python3.10/site-packages (from markdown-it-py>=2.2.0->rich->keras>=3.0.0->tensorflow) (0.1.2)\n",
            "Note: you may need to restart the kernel to use updated packages.\n"
          ]
        }
      ],
      "source": [
        "%pip install keras\n",
        "%pip install tensorflow"
      ]
    },
    {
      "cell_type": "code",
      "execution_count": 2,
      "metadata": {
        "id": "RA-9j38BhCbS"
      },
      "outputs": [
        {
          "name": "stderr",
          "output_type": "stream",
          "text": [
            "2024-03-28 22:35:46.489331: I external/local_tsl/tsl/cuda/cudart_stub.cc:32] Could not find cuda drivers on your machine, GPU will not be used.\n",
            "2024-03-28 22:35:47.592213: I external/local_tsl/tsl/cuda/cudart_stub.cc:32] Could not find cuda drivers on your machine, GPU will not be used.\n",
            "2024-03-28 22:35:50.378961: I tensorflow/core/platform/cpu_feature_guard.cc:210] This TensorFlow binary is optimized to use available CPU instructions in performance-critical operations.\n",
            "To enable the following instructions: AVX2 FMA, in other operations, rebuild TensorFlow with the appropriate compiler flags.\n",
            "2024-03-28 22:35:53.496650: W tensorflow/compiler/tf2tensorrt/utils/py_utils.cc:38] TF-TRT Warning: Could not find TensorRT\n"
          ]
        }
      ],
      "source": [
        "import pandas as pd\n",
        "import numpy as np\n",
        "from sklearn.feature_extraction.text import CountVectorizer\n",
        "from keras.models import Sequential\n",
        "from keras.layers import Dense\n",
        "\n",
        "# Load training and testing data\n",
        "train_data = pd.read_csv('train.csv')\n",
        "test_data = pd.read_csv('test.csv')\n",
        "\n",
        "# Extract input texts and labels\n",
        "train_texts = train_data['text']\n",
        "train_labels = train_data['label']\n",
        "test_texts = test_data['text']\n",
        "test_labels = test_data['label']\n",
        "\n",
        "# Create CountVectorizer to convert text into count vectors. We will restrict the vocabulary size to 1000.\n",
        "\n",
        "vectorizer = CountVectorizer(max_features = 1000)\n",
        "X_train = vectorizer.fit_transform(train_texts)\n",
        "X_test = vectorizer.transform(test_texts)\n",
        "\n",
        "# Vocabulary size. This should come out to be 1000\n",
        "vocab_size = len(vectorizer.get_feature_names_out())"
      ]
    },
    {
      "cell_type": "markdown",
      "metadata": {
        "id": "Zm1B1Wdojn1K"
      },
      "source": [
        "## Design a Feed Forward Network using the Tensorflow\n",
        "\n",
        "Let's design a neural network with the following configuration\n",
        "\n",
        "1. Input Layer:\n",
        "   - The input layer of the neural network is implicitly defined by the shape of the input data, which is the count vectors obtained from the text data using `CountVectorizer`.\n",
        "   - Each input sample is represented as a count vector, where each element corresponds to the frequency of a particular word in the vocabulary.\n",
        "   - Therefore, the input layer has `vocab_size` neurons, where `vocab_size` is the size of the vocabulary (i.e., the number of unique words in the text corpus).\n",
        "\n",
        "2. Hidden Layer:\n",
        "   - The hidden layer consists of 16 neurons (units) and uses the ReLU (Rectified Linear Unit) activation function.\n",
        "   - Each neuron in the hidden layer takes the input from all `vocab_size` neurons of the input layer.\n",
        "   - The output of each neuron in the hidden layer is computed by taking a weighted sum of the inputs followed by the ReLU activation function.\n",
        "   - The ReLU activation function introduces non-linearity to the network, allowing it to learn complex patterns in the data.\n",
        "\n",
        "3. Output Layer:\n",
        "   - The output layer consists of a single neuron, which serves as the binary classifier's output.\n",
        "   - It uses the sigmoid activation function, which squashes the output into the range [0, 1], effectively representing the probability of the input belonging to the positive class (in this case, class 1).\n",
        "   - The output value closer to 1 indicates a higher probability of belonging to the positive class, while a value closer to 0 indicates a higher probability of belonging to the negative class (class 0).\n",
        "\n",
        "In summary, the neural network architecture can be described as follows:\n",
        "- Input layer: `vocab_size` neurons (input features)\n",
        "- Hidden layer: 16 neurons with ReLU activation\n",
        "- Output layer: Single neuron with sigmoid activation\n",
        "\n",
        "The network learns to map the input count vectors to the binary labels (0 or 1) by adjusting the weights and biases of the connections between neurons during the training process, using the binary cross-entropy loss function and the Adam optimizer."
      ]
    },
    {
      "cell_type": "code",
      "execution_count": 3,
      "metadata": {
        "colab": {
          "base_uri": "https://localhost:8080/"
        },
        "id": "4EvmZeojk4RQ",
        "outputId": "9a526984-091c-4d27-aab3-5673ede27caf"
      },
      "outputs": [
        {
          "name": "stderr",
          "output_type": "stream",
          "text": [
            "/home/codespace/.python/current/lib/python3.10/site-packages/keras/src/layers/core/dense.py:88: UserWarning: Do not pass an `input_shape`/`input_dim` argument to a layer. When using Sequential models, prefer using an `Input(shape)` object as the first layer in the model instead.\n",
            "  super().__init__(activity_regularizer=activity_regularizer, **kwargs)\n"
          ]
        },
        {
          "data": {
            "text/html": [
              "<pre style=\"white-space:pre;overflow-x:auto;line-height:normal;font-family:Menlo,'DejaVu Sans Mono',consolas,'Courier New',monospace\"><span style=\"font-weight: bold\">Model: \"sequential\"</span>\n",
              "</pre>\n"
            ],
            "text/plain": [
              "\u001b[1mModel: \"sequential\"\u001b[0m\n"
            ]
          },
          "metadata": {},
          "output_type": "display_data"
        },
        {
          "data": {
            "text/html": [
              "<pre style=\"white-space:pre;overflow-x:auto;line-height:normal;font-family:Menlo,'DejaVu Sans Mono',consolas,'Courier New',monospace\">┏━━━━━━━━━━━━━━━━━━━━━━━━━━━━━━━━━┳━━━━━━━━━━━━━━━━━━━━━━━━┳━━━━━━━━━━━━━━━┓\n",
              "┃<span style=\"font-weight: bold\"> Layer (type)                    </span>┃<span style=\"font-weight: bold\"> Output Shape           </span>┃<span style=\"font-weight: bold\">       Param # </span>┃\n",
              "┡━━━━━━━━━━━━━━━━━━━━━━━━━━━━━━━━━╇━━━━━━━━━━━━━━━━━━━━━━━━╇━━━━━━━━━━━━━━━┩\n",
              "│ dense (<span style=\"color: #0087ff; text-decoration-color: #0087ff\">Dense</span>)                   │ (<span style=\"color: #00d7ff; text-decoration-color: #00d7ff\">None</span>, <span style=\"color: #00af00; text-decoration-color: #00af00\">16</span>)             │        <span style=\"color: #00af00; text-decoration-color: #00af00\">16,016</span> │\n",
              "├─────────────────────────────────┼────────────────────────┼───────────────┤\n",
              "│ dense_1 (<span style=\"color: #0087ff; text-decoration-color: #0087ff\">Dense</span>)                 │ (<span style=\"color: #00d7ff; text-decoration-color: #00d7ff\">None</span>, <span style=\"color: #00af00; text-decoration-color: #00af00\">8</span>)              │           <span style=\"color: #00af00; text-decoration-color: #00af00\">136</span> │\n",
              "├─────────────────────────────────┼────────────────────────┼───────────────┤\n",
              "│ dense_2 (<span style=\"color: #0087ff; text-decoration-color: #0087ff\">Dense</span>)                 │ (<span style=\"color: #00d7ff; text-decoration-color: #00d7ff\">None</span>, <span style=\"color: #00af00; text-decoration-color: #00af00\">1</span>)              │             <span style=\"color: #00af00; text-decoration-color: #00af00\">9</span> │\n",
              "└─────────────────────────────────┴────────────────────────┴───────────────┘\n",
              "</pre>\n"
            ],
            "text/plain": [
              "┏━━━━━━━━━━━━━━━━━━━━━━━━━━━━━━━━━┳━━━━━━━━━━━━━━━━━━━━━━━━┳━━━━━━━━━━━━━━━┓\n",
              "┃\u001b[1m \u001b[0m\u001b[1mLayer (type)                   \u001b[0m\u001b[1m \u001b[0m┃\u001b[1m \u001b[0m\u001b[1mOutput Shape          \u001b[0m\u001b[1m \u001b[0m┃\u001b[1m \u001b[0m\u001b[1m      Param #\u001b[0m\u001b[1m \u001b[0m┃\n",
              "┡━━━━━━━━━━━━━━━━━━━━━━━━━━━━━━━━━╇━━━━━━━━━━━━━━━━━━━━━━━━╇━━━━━━━━━━━━━━━┩\n",
              "│ dense (\u001b[38;5;33mDense\u001b[0m)                   │ (\u001b[38;5;45mNone\u001b[0m, \u001b[38;5;34m16\u001b[0m)             │        \u001b[38;5;34m16,016\u001b[0m │\n",
              "├─────────────────────────────────┼────────────────────────┼───────────────┤\n",
              "│ dense_1 (\u001b[38;5;33mDense\u001b[0m)                 │ (\u001b[38;5;45mNone\u001b[0m, \u001b[38;5;34m8\u001b[0m)              │           \u001b[38;5;34m136\u001b[0m │\n",
              "├─────────────────────────────────┼────────────────────────┼───────────────┤\n",
              "│ dense_2 (\u001b[38;5;33mDense\u001b[0m)                 │ (\u001b[38;5;45mNone\u001b[0m, \u001b[38;5;34m1\u001b[0m)              │             \u001b[38;5;34m9\u001b[0m │\n",
              "└─────────────────────────────────┴────────────────────────┴───────────────┘\n"
            ]
          },
          "metadata": {},
          "output_type": "display_data"
        },
        {
          "data": {
            "text/html": [
              "<pre style=\"white-space:pre;overflow-x:auto;line-height:normal;font-family:Menlo,'DejaVu Sans Mono',consolas,'Courier New',monospace\"><span style=\"font-weight: bold\"> Total params: </span><span style=\"color: #00af00; text-decoration-color: #00af00\">16,161</span> (63.13 KB)\n",
              "</pre>\n"
            ],
            "text/plain": [
              "\u001b[1m Total params: \u001b[0m\u001b[38;5;34m16,161\u001b[0m (63.13 KB)\n"
            ]
          },
          "metadata": {},
          "output_type": "display_data"
        },
        {
          "data": {
            "text/html": [
              "<pre style=\"white-space:pre;overflow-x:auto;line-height:normal;font-family:Menlo,'DejaVu Sans Mono',consolas,'Courier New',monospace\"><span style=\"font-weight: bold\"> Trainable params: </span><span style=\"color: #00af00; text-decoration-color: #00af00\">16,161</span> (63.13 KB)\n",
              "</pre>\n"
            ],
            "text/plain": [
              "\u001b[1m Trainable params: \u001b[0m\u001b[38;5;34m16,161\u001b[0m (63.13 KB)\n"
            ]
          },
          "metadata": {},
          "output_type": "display_data"
        },
        {
          "data": {
            "text/html": [
              "<pre style=\"white-space:pre;overflow-x:auto;line-height:normal;font-family:Menlo,'DejaVu Sans Mono',consolas,'Courier New',monospace\"><span style=\"font-weight: bold\"> Non-trainable params: </span><span style=\"color: #00af00; text-decoration-color: #00af00\">0</span> (0.00 B)\n",
              "</pre>\n"
            ],
            "text/plain": [
              "\u001b[1m Non-trainable params: \u001b[0m\u001b[38;5;34m0\u001b[0m (0.00 B)\n"
            ]
          },
          "metadata": {},
          "output_type": "display_data"
        }
      ],
      "source": [
        "model = Sequential()\n",
        "model.add(Dense(16, input_shape=(vocab_size,), activation='relu'))  # 16 units in the hidden layer\n",
        "model.add(Dense(8, activation='relu'))\n",
        "model.add(Dense(1, activation='sigmoid'))  # Output layer with sigmoid activation for binary classification\n",
        "\n",
        "# Compile the model\n",
        "model.compile(optimizer='adam', loss='binary_crossentropy', metrics=['accuracy'])\n",
        "model.summary()"
      ]
    },
    {
      "cell_type": "markdown",
      "metadata": {
        "id": "BQsbN_S7lFSn"
      },
      "source": [
        "## Training and evaluating the model using backpropagation\n"
      ]
    },
    {
      "cell_type": "code",
      "execution_count": 4,
      "metadata": {
        "colab": {
          "base_uri": "https://localhost:8080/"
        },
        "id": "nq9cThIDlEqy",
        "outputId": "3696c78d-1fbd-41ed-84ef-9368efba23c7"
      },
      "outputs": [
        {
          "name": "stdout",
          "output_type": "stream",
          "text": [
            "Epoch 1/50\n"
          ]
        },
        {
          "name": "stdout",
          "output_type": "stream",
          "text": [
            "100/100 - 1s - 11ms/step - accuracy: 0.5938 - loss: 0.6670\n",
            "Epoch 2/50\n",
            "100/100 - 0s - 886us/step - accuracy: 0.7850 - loss: 0.4726\n",
            "Epoch 3/50\n",
            "100/100 - 0s - 847us/step - accuracy: 0.8706 - loss: 0.3181\n",
            "Epoch 4/50\n",
            "100/100 - 0s - 943us/step - accuracy: 0.9175 - loss: 0.2355\n",
            "Epoch 5/50\n",
            "100/100 - 0s - 882us/step - accuracy: 0.9438 - loss: 0.1786\n",
            "Epoch 6/50\n",
            "100/100 - 0s - 852us/step - accuracy: 0.9594 - loss: 0.1427\n",
            "Epoch 7/50\n",
            "100/100 - 0s - 862us/step - accuracy: 0.9725 - loss: 0.1074\n",
            "Epoch 8/50\n",
            "100/100 - 0s - 884us/step - accuracy: 0.9837 - loss: 0.0804\n",
            "Epoch 9/50\n",
            "100/100 - 0s - 1ms/step - accuracy: 0.9925 - loss: 0.0572\n",
            "Epoch 10/50\n",
            "100/100 - 0s - 851us/step - accuracy: 0.9950 - loss: 0.0406\n",
            "Epoch 11/50\n",
            "100/100 - 0s - 942us/step - accuracy: 0.9975 - loss: 0.0281\n",
            "Epoch 12/50\n",
            "100/100 - 0s - 1ms/step - accuracy: 0.9975 - loss: 0.0224\n",
            "Epoch 13/50\n",
            "100/100 - 0s - 837us/step - accuracy: 0.9962 - loss: 0.0235\n",
            "Epoch 14/50\n",
            "100/100 - 0s - 836us/step - accuracy: 0.9956 - loss: 0.0237\n",
            "Epoch 15/50\n",
            "100/100 - 0s - 858us/step - accuracy: 0.9987 - loss: 0.0120\n",
            "Epoch 16/50\n",
            "100/100 - 0s - 841us/step - accuracy: 0.9994 - loss: 0.0087\n",
            "Epoch 17/50\n",
            "100/100 - 0s - 837us/step - accuracy: 0.9994 - loss: 0.0061\n",
            "Epoch 18/50\n",
            "100/100 - 0s - 864us/step - accuracy: 0.9994 - loss: 0.0046\n",
            "Epoch 19/50\n",
            "100/100 - 0s - 885us/step - accuracy: 1.0000 - loss: 0.0034\n",
            "Epoch 20/50\n",
            "100/100 - 0s - 835us/step - accuracy: 1.0000 - loss: 0.0029\n",
            "Epoch 21/50\n",
            "100/100 - 0s - 837us/step - accuracy: 1.0000 - loss: 0.0023\n",
            "Epoch 22/50\n",
            "100/100 - 0s - 834us/step - accuracy: 1.0000 - loss: 0.0020\n",
            "Epoch 23/50\n",
            "100/100 - 0s - 831us/step - accuracy: 1.0000 - loss: 0.0017\n",
            "Epoch 24/50\n",
            "100/100 - 0s - 1ms/step - accuracy: 1.0000 - loss: 0.0015\n",
            "Epoch 25/50\n",
            "100/100 - 0s - 846us/step - accuracy: 1.0000 - loss: 0.0014\n",
            "Epoch 26/50\n",
            "100/100 - 0s - 938us/step - accuracy: 1.0000 - loss: 0.0012\n",
            "Epoch 27/50\n",
            "100/100 - 0s - 851us/step - accuracy: 1.0000 - loss: 0.0011\n",
            "Epoch 28/50\n",
            "100/100 - 0s - 845us/step - accuracy: 1.0000 - loss: 9.4826e-04\n",
            "Epoch 29/50\n",
            "100/100 - 0s - 879us/step - accuracy: 1.0000 - loss: 8.3810e-04\n",
            "Epoch 30/50\n",
            "100/100 - 0s - 874us/step - accuracy: 1.0000 - loss: 7.5667e-04\n",
            "Epoch 31/50\n",
            "100/100 - 0s - 855us/step - accuracy: 1.0000 - loss: 6.8511e-04\n",
            "Epoch 32/50\n",
            "100/100 - 0s - 848us/step - accuracy: 1.0000 - loss: 6.2521e-04\n",
            "Epoch 33/50\n",
            "100/100 - 0s - 843us/step - accuracy: 1.0000 - loss: 5.5825e-04\n",
            "Epoch 34/50\n",
            "100/100 - 0s - 842us/step - accuracy: 1.0000 - loss: 4.9981e-04\n",
            "Epoch 35/50\n",
            "100/100 - 0s - 847us/step - accuracy: 1.0000 - loss: 4.5403e-04\n",
            "Epoch 36/50\n",
            "100/100 - 0s - 844us/step - accuracy: 1.0000 - loss: 4.1413e-04\n",
            "Epoch 37/50\n",
            "100/100 - 0s - 836us/step - accuracy: 1.0000 - loss: 3.7846e-04\n",
            "Epoch 38/50\n",
            "100/100 - 0s - 850us/step - accuracy: 1.0000 - loss: 3.4424e-04\n",
            "Epoch 39/50\n",
            "100/100 - 0s - 833us/step - accuracy: 1.0000 - loss: 3.1594e-04\n",
            "Epoch 40/50\n",
            "100/100 - 0s - 849us/step - accuracy: 1.0000 - loss: 2.9116e-04\n",
            "Epoch 41/50\n",
            "100/100 - 0s - 872us/step - accuracy: 1.0000 - loss: 2.6639e-04\n",
            "Epoch 42/50\n",
            "100/100 - 0s - 877us/step - accuracy: 1.0000 - loss: 2.4495e-04\n",
            "Epoch 43/50\n",
            "100/100 - 0s - 906us/step - accuracy: 1.0000 - loss: 2.2703e-04\n",
            "Epoch 44/50\n",
            "100/100 - 0s - 843us/step - accuracy: 1.0000 - loss: 2.0890e-04\n",
            "Epoch 45/50\n",
            "100/100 - 0s - 880us/step - accuracy: 1.0000 - loss: 1.9304e-04\n",
            "Epoch 46/50\n",
            "100/100 - 0s - 849us/step - accuracy: 1.0000 - loss: 1.7924e-04\n",
            "Epoch 47/50\n",
            "100/100 - 0s - 1ms/step - accuracy: 1.0000 - loss: 1.6724e-04\n",
            "Epoch 48/50\n",
            "100/100 - 0s - 855us/step - accuracy: 1.0000 - loss: 1.5370e-04\n",
            "Epoch 49/50\n",
            "100/100 - 0s - 971us/step - accuracy: 1.0000 - loss: 1.4240e-04\n",
            "Epoch 50/50\n",
            "100/100 - 0s - 847us/step - accuracy: 1.0000 - loss: 1.3256e-04\n",
            "Accuracy on testing data: 79.25%\n"
          ]
        }
      ],
      "source": [
        "model.fit(X_train.toarray(), train_labels, epochs=50, batch_size=16, verbose=2)\n",
        "\n",
        "# Evaluate the model on testing data\n",
        "loss, accuracy = model.evaluate(X_test.toarray(), test_labels, verbose=0)\n",
        "print(f'Accuracy on testing data: {accuracy * 100:.2f}%')"
      ]
    },
    {
      "cell_type": "markdown",
      "metadata": {
        "id": "AAPn7yxilQok"
      },
      "source": [
        "# Exercise E1. Design a different neural network and compara the tesat accuracy with the network given in the example.\n",
        "\n",
        "Design a Feed Forward Neural Network (FFNN) for text classification with the following architecture:\n",
        "\n",
        "- Input Layer: vocab_size neurons (input features)\n",
        "- Hidden Layer 1: 32 neurons with ReLU activation\n",
        "- Hidden Layer 2: 16 neurons with ReLU activation\n",
        "- Output Layer: Single neuron with sigmoid activation\n",
        "\n",
        "Also change the batch size to 32 and train the system in simmilar manner as above. Write down your observations."
      ]
    }
  ],
  "metadata": {
    "colab": {
      "provenance": []
    },
    "kernelspec": {
      "display_name": "Python 3",
      "name": "python3"
    },
    "language_info": {
      "codemirror_mode": {
        "name": "ipython",
        "version": 3
      },
      "file_extension": ".py",
      "mimetype": "text/x-python",
      "name": "python",
      "nbconvert_exporter": "python",
      "pygments_lexer": "ipython3",
      "version": "3.10.13"
    }
  },
  "nbformat": 4,
  "nbformat_minor": 0
}

{
  "cells": [
    {
      "cell_type": "markdown",
      "metadata": {
        "id": "sZFxLZ0DKs7L"
      },
      "source": [
        "Achintya Yedavalli\n",
        "\n",
        "# Assignment 2: Exploring Pre-Processing Techniques\n",
        "\n",
        "Welcome to TweetMiner, the leading organization in Twitter data analysis! As an NLP scientist in our team, you're entrusted with the task of extracting the most relevant tweets based on input hashtags. For instance, if the hashtag is \"#abortion,\" we expect you to extract the top N (let's say N=10) tweets that truly discuss the topic of \"abortion.\" Similarly, for a hashtag like \"#politicaladvertising,\" your algorithm should identify and extract the top N (again, let's use N=10) tweets about \"political advertising\".\n",
        "\n",
        "Despite the availability of advanced algorithms, we're interested in exploring a few fundamental approaches as given below.\n"
      ]
    },
    {
      "cell_type": "markdown",
      "metadata": {
        "id": "eFhXjurkKs7O"
      },
      "source": [
        "## 1. Simple Word-Overlap Based Match (Search V1.0)\n",
        "\n",
        "We're going to implement the following:\n",
        "\n",
        "### a. Offline Processing\n",
        "\n",
        "- load tweets from file"
      ]
    },
    {
      "cell_type": "code",
      "execution_count": 6,
      "metadata": {
        "colab": {
          "base_uri": "https://localhost:8080/"
        },
        "id": "STwx9H3VKs7N",
        "outputId": "3b206b44-a437-404e-ef39-3b40c6141c87"
      },
      "outputs": [
        {
          "output_type": "execute_result",
          "data": {
            "text/plain": [
              "['After the climate election: shellshocked green groups remain resolute https://t.co/wyJzmAcyiD\\n',\n",
              " '@narendramodi @smritiirani Coverage of indian election on SBS tv channel, Australia. Jai hind 🇮🇳🙏 https://t.co/90qplBEAf8\\n',\n",
              " '@workmanalice Do you know if Facebook is releasing an election post-mortem in Australia? They looked into the midterms, but were we important enough to bother?\\n',\n",
              " '@vanbadham We all understand we have a compulsory preference system. Vote 1 mightn’t go to the major but 2 or 3 usually does.\\n',\n",
              " 'Majority of Australia wanted LNP, that’s the facts.\\n',\n",
              " 'This is nothing like the USA System.\\n',\n",
              " 'Shares were mixed in Asia, with India and Australia leading gains for the region following elections that looked set to keep incumbents in office. https://t.co/krRhPYuRID\\n',\n",
              " \"Australia's pollsters to review incorrect election forecasts https://t.co/isy2SPg7L5\\n\",\n",
              " 'It is disappointing that @tanya_plibersek has ruled herself out of the @AustralianLabor leadership challenge - given her qualities https://t.co/n1DaiVRRF7 #auspol\\n',\n",
              " '@robynesc I feel like this exact thing happens with Australia too. People think \\n']"
            ]
          },
          "metadata": {},
          "execution_count": 6
        }
      ],
      "source": [
        "# load the dataset!!\n",
        "\n",
        "file = open(\"australian_election_2019_tweets.txt\", \"r\")\n",
        "\n",
        "list_messages = file.readlines()\n",
        "list_messages[:10]"
      ]
    },
    {
      "cell_type": "markdown",
      "source": [
        "\n",
        "- remove duplicate tweets"
      ],
      "metadata": {
        "id": "MICCpDnMLagY"
      }
    },
    {
      "cell_type": "code",
      "source": [],
      "metadata": {
        "id": "tKJ6nD6QLdUw"
      },
      "execution_count": null,
      "outputs": []
    },
    {
      "cell_type": "markdown",
      "source": [
        "- remove URLs, mentions, hashtags, & non-english text"
      ],
      "metadata": {
        "id": "jSVyihhQLb9H"
      }
    },
    {
      "cell_type": "code",
      "source": [],
      "metadata": {
        "id": "21EVYtgLLdto"
      },
      "execution_count": null,
      "outputs": []
    }
  ],
  "metadata": {
    "kernelspec": {
      "display_name": "Python 3",
      "language": "python",
      "name": "python3"
    },
    "language_info": {
      "codemirror_mode": {
        "name": "ipython",
        "version": 3
      },
      "file_extension": ".py",
      "mimetype": "text/x-python",
      "name": "python",
      "nbconvert_exporter": "python",
      "pygments_lexer": "ipython3",
      "version": "3.10.13"
    },
    "colab": {
      "provenance": []
    }
  },
  "nbformat": 4,
  "nbformat_minor": 0
}
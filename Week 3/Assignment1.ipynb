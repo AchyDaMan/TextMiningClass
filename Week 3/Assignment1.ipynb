{
 "cells": [
  {
   "cell_type": "markdown",
   "metadata": {},
   "source": [
    "Achintya Yedavalli\n",
    "\n",
    "# Assignment 1 - Sentimental Laughter- Analyzing Poetic Moods\n",
    "\n",
    "For the assignment, let's dive into the wacky world of sentiment analysis with the Gutenberg Poem Dataset, hosted here: https://huggingface.co/datasets/poem_sentimentLinks to an external site. ! Can we unravel the poetic mysteries and find out if and why poems make us laugh, cry, or just scratch our heads in confusion?\n",
    "\n",
    "### Dataset Description:\n",
    "\n",
    "Dataset Name: Gutenberg Poem Dataset\n",
    "\n",
    "Hosted on HuggingFace: https://huggingface.co/datasets/poem_sentiment\n",
    "Dataset Type: Sentiment dataset of poem verses from Project Gutenberg\n",
    "\n",
    "Languages: English (en)\n",
    "\n",
    "Structure: Train, validation, and test splits with sizes: 892, 105, and 104 examples respectively. *We are only using the train dataset*"
   ]
  },
  {
   "cell_type": "markdown",
   "metadata": {},
   "source": [
    "## Task 1: Data Analysis\n",
    "\n",
    "We are going to load, look at, and process the dataset here"
   ]
  },
  {
   "cell_type": "code",
   "execution_count": 11,
   "metadata": {},
   "outputs": [
    {
     "name": "stdout",
     "output_type": "stream",
     "text": [
      "Dataset({\n",
      "    features: ['id', 'verse_text', 'label'],\n",
      "    num_rows: 892\n",
      "})\n",
      "{'id': 1, 'verse_text': 'it flows so long as falls the rain,', 'label': 2}\n"
     ]
    }
   ],
   "source": [
    "from datasets import load_dataset\n",
    "\n",
    "dset = load_dataset(\"poem_sentiment\")\n",
    "\n",
    "print(dset[\"train\"])\n",
    "print(dset[\"train\"][0])"
   ]
  },
  {
   "cell_type": "markdown",
   "metadata": {},
   "source": [
    "### Question 1: Understanding the Data\n",
    "\n",
    "*Provide a brief analysis of the dataset structure. Discuss the key data fields, their meanings, and the sentiment label encoding.*\n",
    "\n",
    "There are 3 fields per row in the dataset: `id`, `verse_text`, and `label`;. `id` is a number that represents a unique identifier in the dataset, `verse_text` is the actual text that is chopped up into the row, and `label` is the sentiment label, with sentiment values of 0 to 3, where 0 is negative, 1 is positive, 2 is neutral, and 3 is mixed. (from dataset website)\n"
   ]
  },
  {
   "cell_type": "markdown",
   "metadata": {},
   "source": [
    "### Question 2: Preprocess the sentiment dataset\n",
    "\n",
    "*Separately implement preprocessing of the \"verse_text\" field for each sentiment category (positive, negative, mixed) from the \"train\" split of the dataset.*"
   ]
  },
  {
   "cell_type": "code",
   "execution_count": 14,
   "metadata": {},
   "outputs": [
    {
     "data": {
      "text/html": [
       "<div>\n",
       "<style scoped>\n",
       "    .dataframe tbody tr th:only-of-type {\n",
       "        vertical-align: middle;\n",
       "    }\n",
       "\n",
       "    .dataframe tbody tr th {\n",
       "        vertical-align: top;\n",
       "    }\n",
       "\n",
       "    .dataframe thead th {\n",
       "        text-align: right;\n",
       "    }\n",
       "</style>\n",
       "<table border=\"1\" class=\"dataframe\">\n",
       "  <thead>\n",
       "    <tr style=\"text-align: right;\">\n",
       "      <th></th>\n",
       "      <th>id</th>\n",
       "      <th>verse_text</th>\n",
       "      <th>label</th>\n",
       "    </tr>\n",
       "  </thead>\n",
       "  <tbody>\n",
       "    <tr>\n",
       "      <th>0</th>\n",
       "      <td>0</td>\n",
       "      <td>funne</td>\n",
       "      <td>1</td>\n",
       "    </tr>\n",
       "    <tr>\n",
       "      <th>1</th>\n",
       "      <td>1</td>\n",
       "      <td>funne</td>\n",
       "      <td>2</td>\n",
       "    </tr>\n",
       "    <tr>\n",
       "      <th>2</th>\n",
       "      <td>2</td>\n",
       "      <td>funne</td>\n",
       "      <td>0</td>\n",
       "    </tr>\n",
       "    <tr>\n",
       "      <th>3</th>\n",
       "      <td>3</td>\n",
       "      <td>funne</td>\n",
       "      <td>3</td>\n",
       "    </tr>\n",
       "    <tr>\n",
       "      <th>4</th>\n",
       "      <td>4</td>\n",
       "      <td>funne</td>\n",
       "      <td>3</td>\n",
       "    </tr>\n",
       "    <tr>\n",
       "      <th>...</th>\n",
       "      <td>...</td>\n",
       "      <td>...</td>\n",
       "      <td>...</td>\n",
       "    </tr>\n",
       "    <tr>\n",
       "      <th>887</th>\n",
       "      <td>887</td>\n",
       "      <td>funne</td>\n",
       "      <td>2</td>\n",
       "    </tr>\n",
       "    <tr>\n",
       "      <th>888</th>\n",
       "      <td>888</td>\n",
       "      <td>funne</td>\n",
       "      <td>1</td>\n",
       "    </tr>\n",
       "    <tr>\n",
       "      <th>889</th>\n",
       "      <td>889</td>\n",
       "      <td>funne</td>\n",
       "      <td>0</td>\n",
       "    </tr>\n",
       "    <tr>\n",
       "      <th>890</th>\n",
       "      <td>890</td>\n",
       "      <td>funne</td>\n",
       "      <td>2</td>\n",
       "    </tr>\n",
       "    <tr>\n",
       "      <th>891</th>\n",
       "      <td>891</td>\n",
       "      <td>funne</td>\n",
       "      <td>0</td>\n",
       "    </tr>\n",
       "  </tbody>\n",
       "</table>\n",
       "<p>892 rows × 3 columns</p>\n",
       "</div>"
      ],
      "text/plain": [
       "      id verse_text  label\n",
       "0      0      funne      1\n",
       "1      1      funne      2\n",
       "2      2      funne      0\n",
       "3      3      funne      3\n",
       "4      4      funne      3\n",
       "..   ...        ...    ...\n",
       "887  887      funne      2\n",
       "888  888      funne      1\n",
       "889  889      funne      0\n",
       "890  890      funne      2\n",
       "891  891      funne      0\n",
       "\n",
       "[892 rows x 3 columns]"
      ]
     },
     "execution_count": 14,
     "metadata": {},
     "output_type": "execute_result"
    }
   ],
   "source": [
    "# convert the dataset to a DataFrame for easier preprocessing\n",
    "import pandas as pd\n",
    "df = pd.DataFrame(dset[\"train\"])\n",
    "\n",
    "# iterate through and clean\n",
    "for row in df[\"verse_text\"]:\n",
    "    "
   ]
  }
 ],
 "metadata": {
  "kernelspec": {
   "display_name": "Python 3",
   "language": "python",
   "name": "python3"
  },
  "language_info": {
   "codemirror_mode": {
    "name": "ipython",
    "version": 3
   },
   "file_extension": ".py",
   "mimetype": "text/x-python",
   "name": "python",
   "nbconvert_exporter": "python",
   "pygments_lexer": "ipython3",
   "version": "3.10.13"
  }
 },
 "nbformat": 4,
 "nbformat_minor": 2
}

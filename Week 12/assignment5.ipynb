{
 "cells": [
  {
   "cell_type": "markdown",
   "metadata": {},
   "source": [
    "Achintya Yedavalli\n",
    "\n",
    "# Assignment 5: Text Classification\n",
    "\n",
    "We are going work on the task of fake news detection from Tweets, i.e.,given a Tweet related Covid19, classify whether the tweet is fake or not. You are given two data files: `FakeNews_train.csv` and `FakeNews_test.csv`. These files contain two columns, \"tweet\" and \"label,\" where \"label\" indicates whether a tweet is \"real\" or \"fake\". Your task is to explore machine learning-based models to select the best model for classifying fake news tweets.\n",
    "\n",
    "## 1. Data Preprocessing\n",
    "\n",
    "### a) Load the raw training & test datasets from the csv files"
   ]
  },
  {
   "cell_type": "code",
   "execution_count": 8,
   "metadata": {},
   "outputs": [
    {
     "data": {
      "text/html": [
       "<div>\n",
       "<style scoped>\n",
       "    .dataframe tbody tr th:only-of-type {\n",
       "        vertical-align: middle;\n",
       "    }\n",
       "\n",
       "    .dataframe tbody tr th {\n",
       "        vertical-align: top;\n",
       "    }\n",
       "\n",
       "    .dataframe thead th {\n",
       "        text-align: right;\n",
       "    }\n",
       "</style>\n",
       "<table border=\"1\" class=\"dataframe\">\n",
       "  <thead>\n",
       "    <tr style=\"text-align: right;\">\n",
       "      <th></th>\n",
       "      <th>tweet</th>\n",
       "      <th>label</th>\n",
       "    </tr>\n",
       "  </thead>\n",
       "  <tbody>\n",
       "    <tr>\n",
       "      <th>0</th>\n",
       "      <td>• Businesses and offices can reopen for staff ...</td>\n",
       "      <td>real</td>\n",
       "    </tr>\n",
       "    <tr>\n",
       "      <th>1</th>\n",
       "      <td>RT @CDCDirector: We do not know yet if the ant...</td>\n",
       "      <td>real</td>\n",
       "    </tr>\n",
       "    <tr>\n",
       "      <th>2</th>\n",
       "      <td>This is an image of a suspected coronavirus va...</td>\n",
       "      <td>fake</td>\n",
       "    </tr>\n",
       "    <tr>\n",
       "      <th>3</th>\n",
       "      <td>We can’t forget that in the middle of a global...</td>\n",
       "      <td>fake</td>\n",
       "    </tr>\n",
       "    <tr>\n",
       "      <th>4</th>\n",
       "      <td>#IndiaFightsCorona Focused and effective effor...</td>\n",
       "      <td>real</td>\n",
       "    </tr>\n",
       "  </tbody>\n",
       "</table>\n",
       "</div>"
      ],
      "text/plain": [
       "                                               tweet label\n",
       "0  • Businesses and offices can reopen for staff ...  real\n",
       "1  RT @CDCDirector: We do not know yet if the ant...  real\n",
       "2  This is an image of a suspected coronavirus va...  fake\n",
       "3  We can’t forget that in the middle of a global...  fake\n",
       "4  #IndiaFightsCorona Focused and effective effor...  real"
      ]
     },
     "execution_count": 8,
     "metadata": {},
     "output_type": "execute_result"
    }
   ],
   "source": [
    "# load de data\n",
    "import pandas as pd\n",
    "\n",
    "train = pd.read_csv(\"FakeNews_train.csv\")\n",
    "test = pd.read_csv(\"FakeNews_test.csv\")\n",
    "train.head()"
   ]
  },
  {
   "cell_type": "markdown",
   "metadata": {},
   "source": [
    "### b) Clean the text data by removing URLs, hashtags, and mentions."
   ]
  },
  {
   "cell_type": "code",
   "execution_count": 9,
   "metadata": {},
   "outputs": [],
   "source": [
    "# cleaning time!\n",
    "# we use regex for this\n",
    "import re\n",
    "# credit to https://www.geeksforgeeks.org/remove-urls-from-string-in-python/\n",
    "def remove_non_english(text):\n",
    "    # Define a regex pattern to find\n",
    "    pattern = re.compile(r\"https?://\\S+|(?<=\\s)[@#]|^[@#]|[^a-zA-Z0-9\\s]\")\n",
    "\n",
    "    # Use the sub() method to replace\n",
    "    text_without_noneg = pattern.sub(\"\", text)\n",
    "\n",
    "    return text_without_noneg\n",
    "\n",
    "train_clean = []\n",
    "test_clean = []\n",
    "for line in train[\"tweet\"]:\n",
    "  train_clean.append(remove_non_english(line))\n",
    "\n",
    "for line in test[\"tweet\"]:\n",
    "   test_clean.append(remove_non_english(line))\n",
    "\n",
    "# make my life easier by putting back clean into the original dfs\n",
    "train[\"tweet\"] = train_clean\n",
    "test[\"tweet\"] = test_clean "
   ]
  },
  {
   "cell_type": "markdown",
   "metadata": {},
   "source": [
    "### c) Tokenize the text data.\n",
    "\n",
    "### d) Remove stop words and lemmatize the text data.\n",
    "\n",
    "(doing c and d together because it's easier)"
   ]
  },
  {
   "cell_type": "code",
   "execution_count": 10,
   "metadata": {},
   "outputs": [
    {
     "name": "stderr",
     "output_type": "stream",
     "text": [
      "[nltk_data] Downloading package stopwords to\n",
      "[nltk_data]     /home/codespace/nltk_data...\n",
      "[nltk_data]   Package stopwords is already up-to-date!\n"
     ]
    }
   ],
   "source": [
    "#tokenize data\n",
    "import spacy\n",
    "from nltk.corpus import stopwords\n",
    "nlp_pipeline = spacy.load(\"en_core_web_sm\")\n",
    "\n",
    "# get a list of stopwords from NLTK\n",
    "import nltk\n",
    "nltk.download('stopwords')\n",
    "stops = set(stopwords.words('english'))\n",
    "\n",
    "def pre_process_a_single_sentence(sentence: str):\n",
    "    # Lower case text\n",
    "    sentence = sentence.lower()\n",
    "\n",
    "    processed_sentence = []\n",
    "\n",
    "    # Tokenize, and lemmatize the text\n",
    "    doc = nlp_pipeline(sentence)\n",
    "\n",
    "    for token in doc:\n",
    "      # here token is an object that contains various information about each token\n",
    "      # information such as lemma, pos, parse labels are available\n",
    "      # we will check here if tokens are present in stopwords; if not, we will retain their lemma\n",
    "      if token not in stops:\n",
    "        lemmatized_token = token.lemma_\n",
    "        processed_sentence.append(lemmatized_token)\n",
    "    processed_sentence = \" \".join (processed_sentence)\n",
    "    return processed_sentence"
   ]
  },
  {
   "cell_type": "code",
   "execution_count": 13,
   "metadata": {},
   "outputs": [],
   "source": [
    "train_clean = []\n",
    "test_clean = []\n",
    "\n",
    "# run the pre-processing\n",
    "for tweet in train[\"tweet\"]:\n",
    "    train_clean.append(pre_process_a_single_sentence(tweet))\n",
    "\n",
    "for tweet in test[\"tweet\"]:\n",
    "    test_clean.append(pre_process_a_single_sentence(tweet))\n",
    "\n",
    "train[\"tweet\"] = train_clean\n",
    "test[\"tweet\"] = test_clean\n",
    "\n",
    "train_clean = None\n",
    "test_clean = None"
   ]
  },
  {
   "cell_type": "markdown",
   "metadata": {},
   "source": [
    "### e) Save the processed data into 2 files"
   ]
  },
  {
   "cell_type": "code",
   "execution_count": 16,
   "metadata": {},
   "outputs": [],
   "source": [
    "train.to_csv(\"FakeNews_train_preprocessed.csv\")\n",
    "test.to_csv(\"FakeNews_test_preprocessed.csv\")"
   ]
  },
  {
   "cell_type": "code",
   "execution_count": null,
   "metadata": {},
   "outputs": [],
   "source": []
  }
 ],
 "metadata": {
  "kernelspec": {
   "display_name": "Python 3",
   "language": "python",
   "name": "python3"
  },
  "language_info": {
   "codemirror_mode": {
    "name": "ipython",
    "version": 3
   },
   "file_extension": ".py",
   "mimetype": "text/x-python",
   "name": "python",
   "nbconvert_exporter": "python",
   "pygments_lexer": "ipython3",
   "version": "3.10.13"
  }
 },
 "nbformat": 4,
 "nbformat_minor": 2
}

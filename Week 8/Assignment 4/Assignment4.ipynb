{
 "cells": [
  {
   "cell_type": "markdown",
   "metadata": {},
   "source": [
    "Achintya Yedavalli\n",
    "\n",
    "# Assignment 4: Information Extraction from Text\n",
    "\n",
    "The objective of this assignment is to apply SpaCy's POS tagging, NER, and dependency parsing functionalities to analyze the article about Abraham Lincoln. By dissecting the text using SpaCy, we will gain insights into the linguistic structure, named entities, and syntactic relationships present in the story.\n",
    "\n",
    "We will be using `Abraham_Lincoln.pdf` for this assignment"
   ]
  },
  {
   "cell_type": "markdown",
   "metadata": {},
   "source": [
    "## 1. Data Loading & Processing\n",
    "\n",
    "### a) Load the dataset using appropriate PDF library."
   ]
  },
  {
   "cell_type": "code",
   "execution_count": 5,
   "metadata": {},
   "outputs": [
    {
     "name": "stdout",
     "output_type": "stream",
     "text": [
      "Text extracted using PyPDF2: \n",
      " ['Abraham Lincoln: The Legacy of a Great Leader  Abraham Lincoln, the 16th President of the United States, remains one of the most revered ﬁgures in American history. Born on February 12, 1809, in a log cabin in Hardin County, Kentucky, Lincoln rose from humble beginnings to become a towering ﬁgure whose leadership during one of the nation\\'s darkest periods, the Civil War, solidiﬁed his place as one of America\\'s greatest presidents. His enduring legacy as the \"Great Emancipator\" and his unwavering commitment to preserving the Union continue to inspire generations around the world.  Early Life and Career  Lincoln\\'s early life was marked by hardship and adversity. Growing up in a frontier environment, he experienced poverty, the loss of his mother at a young age, and limited access to formal education. Despite these challenges, Lincoln possessed an insatiable thirst for knowledge and self-improvement, educating himself through voracious reading and a keen interest in the law.  After working various odd jobs and serving in the Illinois state legislature, Lincoln embarked on a career in law, earning a reputation as a skilled attorney renowned for his integrity and eloquence. His involvement in politics grew steadily, and in 1860, he secured the Republican Party\\'s nomination for president, a testament to his rising prominence within the party and his growing national appeal.  Presidency and the Civil War  Lincoln assumed the presidency at a time of deep division and turmoil in the United States. The issue of slavery had long been a source of contention between the North and the South, threatening to tear the nation apart. Upon taking oYice, Lincoln faced the daunting task of preserving the Union while navigating the complex moral and political landscape of the slavery question.  The outbreak of the Civil War in 1861 tested Lincoln\\'s leadership like never before. Faced with the unprecedented challenge of leading a nation torn asunder by conﬂict, Lincoln demonstrated remarkable resolve, perseverance, and strategic acumen. He skillfully balanced the imperatives of military necessity with his commitment to upholding the principles of liberty and democracy.  Throughout the war, Lincoln faced intense pressure from both within his own administration and from the broader public. Critics assailed him for his handling of the conﬂict, while others questioned his leadership abilities. Yet, Lincoln remained steadfast in his conviction that the Union must be preserved at all costs, declaring in his famous Gettysburg Address that the nation was \"dedicated to the proposition that all men are created equal. \"  Emancipation Proclamation and the Fight for Freedom  One of Lincoln\\'s most enduring legacies is his role in the abolition of slavery. In 1863, he issued the Emancipation Proclamation, a watershed moment in American history that declared all slaves in Confederate-held territory to be \"forever free. \" While the proclamation did not immediately abolish slavery in the Union or border states, it was a crucial step toward the eventual eradication of this abhorrent institution.  ', 'Lincoln\\'s commitment to emancipation was not merely a strategic wartime measure but reﬂected his deeply held moral convictions. He viewed slavery as a moral evil that was fundamentally incompatible with the principles of liberty and equality enshrined in the Declaration of Independence. By issuing the Emancipation Proclamation, Lincoln struck a decisive blow against the institution of slavery and laid the groundwork for its eventual abolition through the ratiﬁcation of the Thirteenth Amendment in 1865.  Legacy and Impact  Abraham Lincoln\\'s presidency left an indelible mark on American history and society. His leadership during the Civil War preserved the Union and laid the foundation for the nation\\'s reuniﬁcation and reconciliation in the aftermath of the conﬂict. His steadfast commitment to the principles of liberty, equality, and democracy inspired generations of Americans and continues to resonate in the ongoing struggle for justice and equality.  Lincoln\\'s legacy extends far beyond his presidency. His eloquent speeches, including the Gettysburg Address and his second inaugural address, remain iconic expressions of American values and ideals. His leadership during a time of national crisis serves as a beacon of hope and resilience, demonstrating the transformative power of visionary leadership in times of adversity.  In conclusion, Abraham Lincoln\\'s life and presidency embody the enduring principles of courage, integrity, and perseverance. From his humble origins on the frontier to his pivotal role in shaping the course of American history, Lincoln\\'s legacy as the \"Great Emancipator\" and champion of democracy endures as a testament to the power of leadership to transcend adversity and inspire positive change. As we reﬂect on his life and legacy, we are reminded of the profound impact that one individual can have in shaping the destiny of a nation and the course of human history. ']\n"
     ]
    }
   ],
   "source": [
    "%pip install PyPDF2\n",
    "# Extract info from PDF\n",
    "import PyPDF2\n",
    "f = open(r'Abraham_Lincoln.pdf', mode='rb')\n",
    "pdfdoc = PyPDF2.PdfReader(f)\n",
    "\n",
    "page_data = []\n",
    "for page in pdfdoc.pages:\n",
    "  text = page.extract_text()\n",
    "  page_data.append(text)\n",
    "\n",
    "print(\"Text extracted using PyPDF2: \\n\", page_data)"
   ]
  },
  {
   "cell_type": "markdown",
   "metadata": {},
   "source": [
    "### b) Convert the entire text read into a set of sentences using NLTK's Sentence Tokenizer."
   ]
  },
  {
   "cell_type": "code",
   "execution_count": 11,
   "metadata": {},
   "outputs": [
    {
     "name": "stdout",
     "output_type": "stream",
     "text": [
      "['Abraham Lincoln: The Legacy of a Great Leader  Abraham Lincoln, the 16th President of the United States, remains one of the most revered ﬁgures in American history.', \"Born on February 12, 1809, in a log cabin in Hardin County, Kentucky, Lincoln rose from humble beginnings to become a towering ﬁgure whose leadership during one of the nation's darkest periods, the Civil War, solidiﬁed his place as one of America's greatest presidents.\", 'His enduring legacy as the \"Great Emancipator\" and his unwavering commitment to preserving the Union continue to inspire generations around the world.', \"Early Life and Career  Lincoln's early life was marked by hardship and adversity.\", 'Growing up in a frontier environment, he experienced poverty, the loss of his mother at a young age, and limited access to formal education.', 'Despite these challenges, Lincoln possessed an insatiable thirst for knowledge and self-improvement, educating himself through voracious reading and a keen interest in the law.', 'After working various odd jobs and serving in the Illinois state legislature, Lincoln embarked on a career in law, earning a reputation as a skilled attorney renowned for his integrity and eloquence.', \"His involvement in politics grew steadily, and in 1860, he secured the Republican Party's nomination for president, a testament to his rising prominence within the party and his growing national appeal.\", 'Presidency and the Civil War  Lincoln assumed the presidency at a time of deep division and turmoil in the United States.', 'The issue of slavery had long been a source of contention between the North and the South, threatening to tear the nation apart.', 'Upon taking oYice, Lincoln faced the daunting task of preserving the Union while navigating the complex moral and political landscape of the slavery question.', \"The outbreak of the Civil War in 1861 tested Lincoln's leadership like never before.\", 'Faced with the unprecedented challenge of leading a nation torn asunder by conﬂict, Lincoln demonstrated remarkable resolve, perseverance, and strategic acumen.', 'He skillfully balanced the imperatives of military necessity with his commitment to upholding the principles of liberty and democracy.', 'Throughout the war, Lincoln faced intense pressure from both within his own administration and from the broader public.', 'Critics assailed him for his handling of the conﬂict, while others questioned his leadership abilities.', 'Yet, Lincoln remained steadfast in his conviction that the Union must be preserved at all costs, declaring in his famous Gettysburg Address that the nation was \"dedicated to the proposition that all men are created equal. \"', \"Emancipation Proclamation and the Fight for Freedom  One of Lincoln's most enduring legacies is his role in the abolition of slavery.\", 'In 1863, he issued the Emancipation Proclamation, a watershed moment in American history that declared all slaves in Confederate-held territory to be \"forever free. \"', 'While the proclamation did not immediately abolish slavery in the Union or border states, it was a crucial step toward the eventual eradication of this abhorrent institution.', \"Lincoln's commitment to emancipation was not merely a strategic wartime measure but reﬂected his deeply held moral convictions.\", 'He viewed slavery as a moral evil that was fundamentally incompatible with the principles of liberty and equality enshrined in the Declaration of Independence.', 'By issuing the Emancipation Proclamation, Lincoln struck a decisive blow against the institution of slavery and laid the groundwork for its eventual abolition through the ratiﬁcation of the Thirteenth Amendment in 1865.', \"Legacy and Impact  Abraham Lincoln's presidency left an indelible mark on American history and society.\", \"His leadership during the Civil War preserved the Union and laid the foundation for the nation's reuniﬁcation and reconciliation in the aftermath of the conﬂict.\", 'His steadfast commitment to the principles of liberty, equality, and democracy inspired generations of Americans and continues to resonate in the ongoing struggle for justice and equality.', \"Lincoln's legacy extends far beyond his presidency.\", 'His eloquent speeches, including the Gettysburg Address and his second inaugural address, remain iconic expressions of American values and ideals.', 'His leadership during a time of national crisis serves as a beacon of hope and resilience, demonstrating the transformative power of visionary leadership in times of adversity.', \"In conclusion, Abraham Lincoln's life and presidency embody the enduring principles of courage, integrity, and perseverance.\", 'From his humble origins on the frontier to his pivotal role in shaping the course of American history, Lincoln\\'s legacy as the \"Great Emancipator\" and champion of democracy endures as a testament to the power of leadership to transcend adversity and inspire positive change.', 'As we reﬂect on his life and legacy, we are reminded of the profound impact that one individual can have in shaping the destiny of a nation and the course of human history.']\n"
     ]
    }
   ],
   "source": [
    "from nltk.tokenize import sent_tokenize\n",
    "\n",
    "full_text = page_data[0] + \" \" + page_data[1]\n",
    "tokens = sent_tokenize(full_text)\n",
    "print(tokens)"
   ]
  },
  {
   "cell_type": "markdown",
   "metadata": {},
   "source": [
    "## 2. Part of Speech Tag Based Analysis [3 Marks]\n",
    "\n",
    "### a) Using  SpaCy library extract fine grained POS tags for each sentence above (Hint: look for \"tok.tag_\" while looping over the tokens after processing the sentence using SpaCy). "
   ]
  },
  {
   "cell_type": "code",
   "execution_count": 12,
   "metadata": {},
   "outputs": [
    {
     "ename": "OSError",
     "evalue": "[E050] Can't find model 'en_core_web_sm'. It doesn't seem to be a Python package or a valid path to a data directory.",
     "output_type": "error",
     "traceback": [
      "\u001b[0;31m---------------------------------------------------------------------------\u001b[0m",
      "\u001b[0;31mOSError\u001b[0m                                   Traceback (most recent call last)",
      "Cell \u001b[0;32mIn[12], line 4\u001b[0m\n\u001b[1;32m      1\u001b[0m \u001b[38;5;28;01mimport\u001b[39;00m \u001b[38;5;21;01mspacy\u001b[39;00m\n\u001b[1;32m      3\u001b[0m \u001b[38;5;66;03m# This will do tokenization, tagging and parsing\u001b[39;00m\n\u001b[0;32m----> 4\u001b[0m nlp \u001b[38;5;241m=\u001b[39m \u001b[43mspacy\u001b[49m\u001b[38;5;241;43m.\u001b[39;49m\u001b[43mload\u001b[49m\u001b[43m(\u001b[49m\u001b[38;5;124;43m\"\u001b[39;49m\u001b[38;5;124;43men_core_web_sm\u001b[39;49m\u001b[38;5;124;43m\"\u001b[39;49m\u001b[43m)\u001b[49m\n",
      "File \u001b[0;32m~/.python/current/lib/python3.10/site-packages/spacy/__init__.py:51\u001b[0m, in \u001b[0;36mload\u001b[0;34m(name, vocab, disable, enable, exclude, config)\u001b[0m\n\u001b[1;32m     27\u001b[0m \u001b[38;5;28;01mdef\u001b[39;00m \u001b[38;5;21mload\u001b[39m(\n\u001b[1;32m     28\u001b[0m     name: Union[\u001b[38;5;28mstr\u001b[39m, Path],\n\u001b[1;32m     29\u001b[0m     \u001b[38;5;241m*\u001b[39m,\n\u001b[0;32m   (...)\u001b[0m\n\u001b[1;32m     34\u001b[0m     config: Union[Dict[\u001b[38;5;28mstr\u001b[39m, Any], Config] \u001b[38;5;241m=\u001b[39m util\u001b[38;5;241m.\u001b[39mSimpleFrozenDict(),\n\u001b[1;32m     35\u001b[0m ) \u001b[38;5;241m-\u001b[39m\u001b[38;5;241m>\u001b[39m Language:\n\u001b[1;32m     36\u001b[0m \u001b[38;5;250m    \u001b[39m\u001b[38;5;124;03m\"\"\"Load a spaCy model from an installed package or a local path.\u001b[39;00m\n\u001b[1;32m     37\u001b[0m \n\u001b[1;32m     38\u001b[0m \u001b[38;5;124;03m    name (str): Package name or model path.\u001b[39;00m\n\u001b[0;32m   (...)\u001b[0m\n\u001b[1;32m     49\u001b[0m \u001b[38;5;124;03m    RETURNS (Language): The loaded nlp object.\u001b[39;00m\n\u001b[1;32m     50\u001b[0m \u001b[38;5;124;03m    \"\"\"\u001b[39;00m\n\u001b[0;32m---> 51\u001b[0m     \u001b[38;5;28;01mreturn\u001b[39;00m \u001b[43mutil\u001b[49m\u001b[38;5;241;43m.\u001b[39;49m\u001b[43mload_model\u001b[49m\u001b[43m(\u001b[49m\n\u001b[1;32m     52\u001b[0m \u001b[43m        \u001b[49m\u001b[43mname\u001b[49m\u001b[43m,\u001b[49m\n\u001b[1;32m     53\u001b[0m \u001b[43m        \u001b[49m\u001b[43mvocab\u001b[49m\u001b[38;5;241;43m=\u001b[39;49m\u001b[43mvocab\u001b[49m\u001b[43m,\u001b[49m\n\u001b[1;32m     54\u001b[0m \u001b[43m        \u001b[49m\u001b[43mdisable\u001b[49m\u001b[38;5;241;43m=\u001b[39;49m\u001b[43mdisable\u001b[49m\u001b[43m,\u001b[49m\n\u001b[1;32m     55\u001b[0m \u001b[43m        \u001b[49m\u001b[43menable\u001b[49m\u001b[38;5;241;43m=\u001b[39;49m\u001b[43menable\u001b[49m\u001b[43m,\u001b[49m\n\u001b[1;32m     56\u001b[0m \u001b[43m        \u001b[49m\u001b[43mexclude\u001b[49m\u001b[38;5;241;43m=\u001b[39;49m\u001b[43mexclude\u001b[49m\u001b[43m,\u001b[49m\n\u001b[1;32m     57\u001b[0m \u001b[43m        \u001b[49m\u001b[43mconfig\u001b[49m\u001b[38;5;241;43m=\u001b[39;49m\u001b[43mconfig\u001b[49m\u001b[43m,\u001b[49m\n\u001b[1;32m     58\u001b[0m \u001b[43m    \u001b[49m\u001b[43m)\u001b[49m\n",
      "File \u001b[0;32m~/.python/current/lib/python3.10/site-packages/spacy/util.py:472\u001b[0m, in \u001b[0;36mload_model\u001b[0;34m(name, vocab, disable, enable, exclude, config)\u001b[0m\n\u001b[1;32m    470\u001b[0m \u001b[38;5;28;01mif\u001b[39;00m name \u001b[38;5;129;01min\u001b[39;00m OLD_MODEL_SHORTCUTS:\n\u001b[1;32m    471\u001b[0m     \u001b[38;5;28;01mraise\u001b[39;00m \u001b[38;5;167;01mIOError\u001b[39;00m(Errors\u001b[38;5;241m.\u001b[39mE941\u001b[38;5;241m.\u001b[39mformat(name\u001b[38;5;241m=\u001b[39mname, full\u001b[38;5;241m=\u001b[39mOLD_MODEL_SHORTCUTS[name]))  \u001b[38;5;66;03m# type: ignore[index]\u001b[39;00m\n\u001b[0;32m--> 472\u001b[0m \u001b[38;5;28;01mraise\u001b[39;00m \u001b[38;5;167;01mIOError\u001b[39;00m(Errors\u001b[38;5;241m.\u001b[39mE050\u001b[38;5;241m.\u001b[39mformat(name\u001b[38;5;241m=\u001b[39mname))\n",
      "\u001b[0;31mOSError\u001b[0m: [E050] Can't find model 'en_core_web_sm'. It doesn't seem to be a Python package or a valid path to a data directory."
     ]
    }
   ],
   "source": [
    "import spacy\n",
    "\n",
    "# This will do tokenization, tagging and parsing\n",
    "nlp = spacy.load(\"en_core_web_sm\")\n"
   ]
  }
 ],
 "metadata": {
  "kernelspec": {
   "display_name": "Python 3",
   "language": "python",
   "name": "python3"
  },
  "language_info": {
   "codemirror_mode": {
    "name": "ipython",
    "version": 3
   },
   "file_extension": ".py",
   "mimetype": "text/x-python",
   "name": "python",
   "nbconvert_exporter": "python",
   "pygments_lexer": "ipython3",
   "version": "3.10.13"
  }
 },
 "nbformat": 4,
 "nbformat_minor": 2
}

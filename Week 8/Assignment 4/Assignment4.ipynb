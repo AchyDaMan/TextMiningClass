{
 "cells": [
  {
   "cell_type": "markdown",
   "metadata": {},
   "source": [
    "Achintya Yedavalli\n",
    "\n",
    "# Assignment 4: Information Extraction from Text\n",
    "\n",
    "The objective of this assignment is to apply SpaCy's POS tagging, NER, and dependency parsing functionalities to analyze the article about Abraham Lincoln. By dissecting the text using SpaCy, we will gain insights into the linguistic structure, named entities, and syntactic relationships present in the story.\n",
    "\n",
    "We will be using `Abraham_Lincoln.pdf` for this assignment"
   ]
  },
  {
   "cell_type": "markdown",
   "metadata": {},
   "source": [
    "## 1. Data Loading & Processing\n",
    "\n",
    "### a) Load the dataset using appropriate PDF library."
   ]
  },
  {
   "cell_type": "code",
   "execution_count": 16,
   "metadata": {},
   "outputs": [
    {
     "name": "stdout",
     "output_type": "stream",
     "text": [
      "Requirement already satisfied: PyPDF2 in /usr/local/python/3.10.13/lib/python3.10/site-packages (3.0.1)\n",
      "Note: you may need to restart the kernel to use updated packages.\n",
      "Text extracted using PyPDF2: \n",
      " ['Abraham Lincoln: The Legacy of a Great Leader  Abraham Lincoln, the 16th President of the United States, remains one of the most revered ﬁgures in American history. Born on February 12, 1809, in a log cabin in Hardin County, Kentucky, Lincoln rose from humble beginnings to become a towering ﬁgure whose leadership during one of the nation\\'s darkest periods, the Civil War, solidiﬁed his place as one of America\\'s greatest presidents. His enduring legacy as the \"Great Emancipator\" and his unwavering commitment to preserving the Union continue to inspire generations around the world.  Early Life and Career  Lincoln\\'s early life was marked by hardship and adversity. Growing up in a frontier environment, he experienced poverty, the loss of his mother at a young age, and limited access to formal education. Despite these challenges, Lincoln possessed an insatiable thirst for knowledge and self-improvement, educating himself through voracious reading and a keen interest in the law.  After working various odd jobs and serving in the Illinois state legislature, Lincoln embarked on a career in law, earning a reputation as a skilled attorney renowned for his integrity and eloquence. His involvement in politics grew steadily, and in 1860, he secured the Republican Party\\'s nomination for president, a testament to his rising prominence within the party and his growing national appeal.  Presidency and the Civil War  Lincoln assumed the presidency at a time of deep division and turmoil in the United States. The issue of slavery had long been a source of contention between the North and the South, threatening to tear the nation apart. Upon taking oYice, Lincoln faced the daunting task of preserving the Union while navigating the complex moral and political landscape of the slavery question.  The outbreak of the Civil War in 1861 tested Lincoln\\'s leadership like never before. Faced with the unprecedented challenge of leading a nation torn asunder by conﬂict, Lincoln demonstrated remarkable resolve, perseverance, and strategic acumen. He skillfully balanced the imperatives of military necessity with his commitment to upholding the principles of liberty and democracy.  Throughout the war, Lincoln faced intense pressure from both within his own administration and from the broader public. Critics assailed him for his handling of the conﬂict, while others questioned his leadership abilities. Yet, Lincoln remained steadfast in his conviction that the Union must be preserved at all costs, declaring in his famous Gettysburg Address that the nation was \"dedicated to the proposition that all men are created equal. \"  Emancipation Proclamation and the Fight for Freedom  One of Lincoln\\'s most enduring legacies is his role in the abolition of slavery. In 1863, he issued the Emancipation Proclamation, a watershed moment in American history that declared all slaves in Confederate-held territory to be \"forever free. \" While the proclamation did not immediately abolish slavery in the Union or border states, it was a crucial step toward the eventual eradication of this abhorrent institution.  ', 'Lincoln\\'s commitment to emancipation was not merely a strategic wartime measure but reﬂected his deeply held moral convictions. He viewed slavery as a moral evil that was fundamentally incompatible with the principles of liberty and equality enshrined in the Declaration of Independence. By issuing the Emancipation Proclamation, Lincoln struck a decisive blow against the institution of slavery and laid the groundwork for its eventual abolition through the ratiﬁcation of the Thirteenth Amendment in 1865.  Legacy and Impact  Abraham Lincoln\\'s presidency left an indelible mark on American history and society. His leadership during the Civil War preserved the Union and laid the foundation for the nation\\'s reuniﬁcation and reconciliation in the aftermath of the conﬂict. His steadfast commitment to the principles of liberty, equality, and democracy inspired generations of Americans and continues to resonate in the ongoing struggle for justice and equality.  Lincoln\\'s legacy extends far beyond his presidency. His eloquent speeches, including the Gettysburg Address and his second inaugural address, remain iconic expressions of American values and ideals. His leadership during a time of national crisis serves as a beacon of hope and resilience, demonstrating the transformative power of visionary leadership in times of adversity.  In conclusion, Abraham Lincoln\\'s life and presidency embody the enduring principles of courage, integrity, and perseverance. From his humble origins on the frontier to his pivotal role in shaping the course of American history, Lincoln\\'s legacy as the \"Great Emancipator\" and champion of democracy endures as a testament to the power of leadership to transcend adversity and inspire positive change. As we reﬂect on his life and legacy, we are reminded of the profound impact that one individual can have in shaping the destiny of a nation and the course of human history. ']\n"
     ]
    }
   ],
   "source": [
    "%pip install PyPDF2\n",
    "# Extract info from PDF\n",
    "import PyPDF2\n",
    "f = open(r'Abraham_Lincoln.pdf', mode='rb')\n",
    "pdfdoc = PyPDF2.PdfReader(f)\n",
    "\n",
    "page_data = []\n",
    "for page in pdfdoc.pages:\n",
    "  text = page.extract_text()\n",
    "  page_data.append(text)\n",
    "\n",
    "print(\"Text extracted using PyPDF2: \\n\", page_data)"
   ]
  },
  {
   "cell_type": "markdown",
   "metadata": {},
   "source": [
    "### b) Convert the entire text read into a set of sentences using NLTK's Sentence Tokenizer."
   ]
  },
  {
   "cell_type": "code",
   "execution_count": 17,
   "metadata": {},
   "outputs": [
    {
     "name": "stdout",
     "output_type": "stream",
     "text": [
      "Downloaded punkt\n",
      "Downloaded averaged_perceptron_tagger\n"
     ]
    },
    {
     "name": "stderr",
     "output_type": "stream",
     "text": [
      "[nltk_data] Downloading package punkt to /home/codespace/nltk_data...\n",
      "[nltk_data]   Package punkt is already up-to-date!\n",
      "[nltk_data] Downloading package averaged_perceptron_tagger to\n",
      "[nltk_data]     /home/codespace/nltk_data...\n",
      "[nltk_data]   Package averaged_perceptron_tagger is already up-to-\n",
      "[nltk_data]       date!\n"
     ]
    }
   ],
   "source": [
    "def download_nltk_dataset(dataset_name):\n",
    "  # Let's do this one time implementation  for downloading an NLTK dataset\n",
    "  # ONLY IF it does not exist\n",
    "  try:\n",
    "      nltk.data.find(dataset_name)\n",
    "  except LookupError:\n",
    "      nltk.download(dataset_name)\n",
    "      print(f\"Downloaded {dataset_name}\")\n",
    "  else:\n",
    "        print(f\"{dataset_name} is already downloaded\")\n",
    "\n",
    "download_nltk_dataset(\"punkt\")\n",
    "download_nltk_dataset(\"averaged_perceptron_tagger\")"
   ]
  },
  {
   "cell_type": "code",
   "execution_count": 18,
   "metadata": {},
   "outputs": [
    {
     "name": "stdout",
     "output_type": "stream",
     "text": [
      "['Abraham Lincoln: The Legacy of a Great Leader  Abraham Lincoln, the 16th President of the United States, remains one of the most revered ﬁgures in American history.', \"Born on February 12, 1809, in a log cabin in Hardin County, Kentucky, Lincoln rose from humble beginnings to become a towering ﬁgure whose leadership during one of the nation's darkest periods, the Civil War, solidiﬁed his place as one of America's greatest presidents.\", 'His enduring legacy as the \"Great Emancipator\" and his unwavering commitment to preserving the Union continue to inspire generations around the world.', \"Early Life and Career  Lincoln's early life was marked by hardship and adversity.\", 'Growing up in a frontier environment, he experienced poverty, the loss of his mother at a young age, and limited access to formal education.', 'Despite these challenges, Lincoln possessed an insatiable thirst for knowledge and self-improvement, educating himself through voracious reading and a keen interest in the law.', 'After working various odd jobs and serving in the Illinois state legislature, Lincoln embarked on a career in law, earning a reputation as a skilled attorney renowned for his integrity and eloquence.', \"His involvement in politics grew steadily, and in 1860, he secured the Republican Party's nomination for president, a testament to his rising prominence within the party and his growing national appeal.\", 'Presidency and the Civil War  Lincoln assumed the presidency at a time of deep division and turmoil in the United States.', 'The issue of slavery had long been a source of contention between the North and the South, threatening to tear the nation apart.', 'Upon taking oYice, Lincoln faced the daunting task of preserving the Union while navigating the complex moral and political landscape of the slavery question.', \"The outbreak of the Civil War in 1861 tested Lincoln's leadership like never before.\", 'Faced with the unprecedented challenge of leading a nation torn asunder by conﬂict, Lincoln demonstrated remarkable resolve, perseverance, and strategic acumen.', 'He skillfully balanced the imperatives of military necessity with his commitment to upholding the principles of liberty and democracy.', 'Throughout the war, Lincoln faced intense pressure from both within his own administration and from the broader public.', 'Critics assailed him for his handling of the conﬂict, while others questioned his leadership abilities.', 'Yet, Lincoln remained steadfast in his conviction that the Union must be preserved at all costs, declaring in his famous Gettysburg Address that the nation was \"dedicated to the proposition that all men are created equal. \"', \"Emancipation Proclamation and the Fight for Freedom  One of Lincoln's most enduring legacies is his role in the abolition of slavery.\", 'In 1863, he issued the Emancipation Proclamation, a watershed moment in American history that declared all slaves in Confederate-held territory to be \"forever free. \"', 'While the proclamation did not immediately abolish slavery in the Union or border states, it was a crucial step toward the eventual eradication of this abhorrent institution.', \"Lincoln's commitment to emancipation was not merely a strategic wartime measure but reﬂected his deeply held moral convictions.\", 'He viewed slavery as a moral evil that was fundamentally incompatible with the principles of liberty and equality enshrined in the Declaration of Independence.', 'By issuing the Emancipation Proclamation, Lincoln struck a decisive blow against the institution of slavery and laid the groundwork for its eventual abolition through the ratiﬁcation of the Thirteenth Amendment in 1865.', \"Legacy and Impact  Abraham Lincoln's presidency left an indelible mark on American history and society.\", \"His leadership during the Civil War preserved the Union and laid the foundation for the nation's reuniﬁcation and reconciliation in the aftermath of the conﬂict.\", 'His steadfast commitment to the principles of liberty, equality, and democracy inspired generations of Americans and continues to resonate in the ongoing struggle for justice and equality.', \"Lincoln's legacy extends far beyond his presidency.\", 'His eloquent speeches, including the Gettysburg Address and his second inaugural address, remain iconic expressions of American values and ideals.', 'His leadership during a time of national crisis serves as a beacon of hope and resilience, demonstrating the transformative power of visionary leadership in times of adversity.', \"In conclusion, Abraham Lincoln's life and presidency embody the enduring principles of courage, integrity, and perseverance.\", 'From his humble origins on the frontier to his pivotal role in shaping the course of American history, Lincoln\\'s legacy as the \"Great Emancipator\" and champion of democracy endures as a testament to the power of leadership to transcend adversity and inspire positive change.', 'As we reﬂect on his life and legacy, we are reminded of the profound impact that one individual can have in shaping the destiny of a nation and the course of human history.']\n"
     ]
    }
   ],
   "source": [
    "from nltk.tokenize import sent_tokenize\n",
    "\n",
    "full_text = page_data[0] + \" \" + page_data[1]\n",
    "tokens = sent_tokenize(full_text)\n",
    "print(tokens)"
   ]
  },
  {
   "cell_type": "markdown",
   "metadata": {},
   "source": [
    "## 2. Part of Speech Tag Based Analysis [3 Marks]\n",
    "\n",
    "### a) Using  SpaCy library extract fine grained POS tags for each sentence above (Hint: look for \"tok.tag_\" while looping over the tokens after processing the sentence using SpaCy). "
   ]
  },
  {
   "cell_type": "code",
   "execution_count": 19,
   "metadata": {},
   "outputs": [
    {
     "name": "stdout",
     "output_type": "stream",
     "text": [
      "****************************************\n",
      "Abraham Lincoln: The Legacy of a Great Leader  Abraham Lincoln, the 16th President of the United States, remains one of the most revered ﬁgures in American history.\n",
      "Tokens:\n",
      "['Abraham', 'Lincoln', ':', 'The', 'Legacy', 'of', 'a', 'Great', 'Leader', ' ', 'Abraham', 'Lincoln', ',', 'the', '16th', 'President', 'of', 'the', 'United', 'States', ',', 'remains', 'one', 'of', 'the', 'most', 'revered', 'ﬁgures', 'in', 'American', 'history', '.']\n",
      "Fine tags:\n",
      "['NNP', 'NNP', ':', 'DT', 'NNP', 'IN', 'DT', 'NNP', 'NNP', '_SP', 'NNP', 'NNP', ',', 'DT', 'JJ', 'NNP', 'IN', 'DT', 'NNP', 'NNP', ',', 'VBZ', 'CD', 'IN', 'DT', 'RBS', 'VBN', 'NNS', 'IN', 'JJ', 'NN', '.']\n",
      "****************************************\n",
      "Born on February 12, 1809, in a log cabin in Hardin County, Kentucky, Lincoln rose from humble beginnings to become a towering ﬁgure whose leadership during one of the nation's darkest periods, the Civil War, solidiﬁed his place as one of America's greatest presidents.\n",
      "Tokens:\n",
      "['Born', 'on', 'February', '12', ',', '1809', ',', 'in', 'a', 'log', 'cabin', 'in', 'Hardin', 'County', ',', 'Kentucky', ',', 'Lincoln', 'rose', 'from', 'humble', 'beginnings', 'to', 'become', 'a', 'towering', 'ﬁgure', 'whose', 'leadership', 'during', 'one', 'of', 'the', 'nation', \"'s\", 'darkest', 'periods', ',', 'the', 'Civil', 'War', ',', 'solidiﬁed', 'his', 'place', 'as', 'one', 'of', 'America', \"'s\", 'greatest', 'presidents', '.']\n",
      "Fine tags:\n",
      "['VBN', 'IN', 'NNP', 'CD', ',', 'CD', ',', 'IN', 'DT', 'NN', 'NN', 'IN', 'NNP', 'NNP', ',', 'NNP', ',', 'NNP', 'VBD', 'IN', 'JJ', 'NNS', 'TO', 'VB', 'DT', 'VBG', 'NN', 'WP$', 'NN', 'IN', 'CD', 'IN', 'DT', 'NN', 'POS', 'JJ', 'NNS', ',', 'DT', 'NNP', 'NNP', ',', 'VB', 'PRP$', 'NN', 'IN', 'CD', 'IN', 'NNP', 'POS', 'JJS', 'NNS', '.']\n",
      "****************************************\n",
      "His enduring legacy as the \"Great Emancipator\" and his unwavering commitment to preserving the Union continue to inspire generations around the world.\n",
      "Tokens:\n",
      "['His', 'enduring', 'legacy', 'as', 'the', '\"', 'Great', 'Emancipator', '\"', 'and', 'his', 'unwavering', 'commitment', 'to', 'preserving', 'the', 'Union', 'continue', 'to', 'inspire', 'generations', 'around', 'the', 'world', '.']\n",
      "Fine tags:\n",
      "['PRP$', 'VBG', 'NN', 'IN', 'DT', '``', 'NNP', 'NNP', \"''\", 'CC', 'PRP$', 'JJ', 'NN', 'IN', 'VBG', 'DT', 'NNP', 'VB', 'TO', 'VB', 'NNS', 'IN', 'DT', 'NN', '.']\n",
      "****************************************\n",
      "Early Life and Career  Lincoln's early life was marked by hardship and adversity.\n",
      "Tokens:\n",
      "['Early', 'Life', 'and', 'Career', ' ', 'Lincoln', \"'s\", 'early', 'life', 'was', 'marked', 'by', 'hardship', 'and', 'adversity', '.']\n",
      "Fine tags:\n",
      "['JJ', 'NNP', 'CC', 'NNP', '_SP', 'NNP', 'POS', 'JJ', 'NN', 'VBD', 'VBN', 'IN', 'NN', 'CC', 'NN', '.']\n",
      "****************************************\n",
      "Growing up in a frontier environment, he experienced poverty, the loss of his mother at a young age, and limited access to formal education.\n",
      "Tokens:\n",
      "['Growing', 'up', 'in', 'a', 'frontier', 'environment', ',', 'he', 'experienced', 'poverty', ',', 'the', 'loss', 'of', 'his', 'mother', 'at', 'a', 'young', 'age', ',', 'and', 'limited', 'access', 'to', 'formal', 'education', '.']\n",
      "Fine tags:\n",
      "['VBG', 'RP', 'IN', 'DT', 'NN', 'NN', ',', 'PRP', 'VBD', 'NN', ',', 'DT', 'NN', 'IN', 'PRP$', 'NN', 'IN', 'DT', 'JJ', 'NN', ',', 'CC', 'JJ', 'NN', 'IN', 'JJ', 'NN', '.']\n",
      "****************************************\n",
      "Despite these challenges, Lincoln possessed an insatiable thirst for knowledge and self-improvement, educating himself through voracious reading and a keen interest in the law.\n",
      "Tokens:\n",
      "['Despite', 'these', 'challenges', ',', 'Lincoln', 'possessed', 'an', 'insatiable', 'thirst', 'for', 'knowledge', 'and', 'self', '-', 'improvement', ',', 'educating', 'himself', 'through', 'voracious', 'reading', 'and', 'a', 'keen', 'interest', 'in', 'the', 'law', '.']\n",
      "Fine tags:\n",
      "['IN', 'DT', 'NNS', ',', 'NNP', 'VBD', 'DT', 'JJ', 'NN', 'IN', 'NN', 'CC', 'NN', 'HYPH', 'NN', ',', 'VBG', 'PRP', 'IN', 'JJ', 'NN', 'CC', 'DT', 'JJ', 'NN', 'IN', 'DT', 'NN', '.']\n",
      "****************************************\n",
      "After working various odd jobs and serving in the Illinois state legislature, Lincoln embarked on a career in law, earning a reputation as a skilled attorney renowned for his integrity and eloquence.\n",
      "Tokens:\n",
      "['After', 'working', 'various', 'odd', 'jobs', 'and', 'serving', 'in', 'the', 'Illinois', 'state', 'legislature', ',', 'Lincoln', 'embarked', 'on', 'a', 'career', 'in', 'law', ',', 'earning', 'a', 'reputation', 'as', 'a', 'skilled', 'attorney', 'renowned', 'for', 'his', 'integrity', 'and', 'eloquence', '.']\n",
      "Fine tags:\n",
      "['IN', 'VBG', 'JJ', 'JJ', 'NNS', 'CC', 'VBG', 'IN', 'DT', 'NNP', 'NN', 'NN', ',', 'NNP', 'VBD', 'IN', 'DT', 'NN', 'IN', 'NN', ',', 'VBG', 'DT', 'NN', 'IN', 'DT', 'JJ', 'NN', 'VBN', 'IN', 'PRP$', 'NN', 'CC', 'NN', '.']\n",
      "****************************************\n",
      "His involvement in politics grew steadily, and in 1860, he secured the Republican Party's nomination for president, a testament to his rising prominence within the party and his growing national appeal.\n",
      "Tokens:\n",
      "['His', 'involvement', 'in', 'politics', 'grew', 'steadily', ',', 'and', 'in', '1860', ',', 'he', 'secured', 'the', 'Republican', 'Party', \"'s\", 'nomination', 'for', 'president', ',', 'a', 'testament', 'to', 'his', 'rising', 'prominence', 'within', 'the', 'party', 'and', 'his', 'growing', 'national', 'appeal', '.']\n",
      "Fine tags:\n",
      "['PRP$', 'NN', 'IN', 'NNS', 'VBD', 'RB', ',', 'CC', 'IN', 'CD', ',', 'PRP', 'VBD', 'DT', 'NNP', 'NNP', 'POS', 'NN', 'IN', 'NN', ',', 'DT', 'NN', 'IN', 'PRP$', 'VBG', 'NN', 'IN', 'DT', 'NN', 'CC', 'PRP$', 'VBG', 'JJ', 'NN', '.']\n",
      "****************************************\n",
      "Presidency and the Civil War  Lincoln assumed the presidency at a time of deep division and turmoil in the United States.\n",
      "Tokens:\n",
      "['Presidency', 'and', 'the', 'Civil', 'War', ' ', 'Lincoln', 'assumed', 'the', 'presidency', 'at', 'a', 'time', 'of', 'deep', 'division', 'and', 'turmoil', 'in', 'the', 'United', 'States', '.']\n",
      "Fine tags:\n",
      "['NN', 'CC', 'DT', 'NNP', 'NNP', '_SP', 'NNP', 'VBD', 'DT', 'NN', 'IN', 'DT', 'NN', 'IN', 'JJ', 'NN', 'CC', 'NN', 'IN', 'DT', 'NNP', 'NNP', '.']\n",
      "****************************************\n",
      "The issue of slavery had long been a source of contention between the North and the South, threatening to tear the nation apart.\n",
      "Tokens:\n",
      "['The', 'issue', 'of', 'slavery', 'had', 'long', 'been', 'a', 'source', 'of', 'contention', 'between', 'the', 'North', 'and', 'the', 'South', ',', 'threatening', 'to', 'tear', 'the', 'nation', 'apart', '.']\n",
      "Fine tags:\n",
      "['DT', 'NN', 'IN', 'NN', 'VBD', 'RB', 'VBN', 'DT', 'NN', 'IN', 'NN', 'IN', 'DT', 'NNP', 'CC', 'DT', 'NNP', ',', 'VBG', 'TO', 'VB', 'DT', 'NN', 'RB', '.']\n",
      "****************************************\n",
      "Upon taking oYice, Lincoln faced the daunting task of preserving the Union while navigating the complex moral and political landscape of the slavery question.\n",
      "Tokens:\n",
      "['Upon', 'taking', 'oYice', ',', 'Lincoln', 'faced', 'the', 'daunting', 'task', 'of', 'preserving', 'the', 'Union', 'while', 'navigating', 'the', 'complex', 'moral', 'and', 'political', 'landscape', 'of', 'the', 'slavery', 'question', '.']\n",
      "Fine tags:\n",
      "['IN', 'VBG', 'NNP', ',', 'NNP', 'VBD', 'DT', 'JJ', 'NN', 'IN', 'VBG', 'DT', 'NNP', 'IN', 'VBG', 'DT', 'JJ', 'JJ', 'CC', 'JJ', 'NN', 'IN', 'DT', 'NN', 'NN', '.']\n",
      "****************************************\n",
      "The outbreak of the Civil War in 1861 tested Lincoln's leadership like never before.\n",
      "Tokens:\n",
      "['The', 'outbreak', 'of', 'the', 'Civil', 'War', 'in', '1861', 'tested', 'Lincoln', \"'s\", 'leadership', 'like', 'never', 'before', '.']\n",
      "Fine tags:\n",
      "['DT', 'NN', 'IN', 'DT', 'NNP', 'NNP', 'IN', 'CD', 'VBD', 'NNP', 'POS', 'NN', 'UH', 'RB', 'RB', '.']\n",
      "****************************************\n",
      "Faced with the unprecedented challenge of leading a nation torn asunder by conﬂict, Lincoln demonstrated remarkable resolve, perseverance, and strategic acumen.\n",
      "Tokens:\n",
      "['Faced', 'with', 'the', 'unprecedented', 'challenge', 'of', 'leading', 'a', 'nation', 'torn', 'asunder', 'by', 'conﬂict', ',', 'Lincoln', 'demonstrated', 'remarkable', 'resolve', ',', 'perseverance', ',', 'and', 'strategic', 'acumen', '.']\n",
      "Fine tags:\n",
      "['VBN', 'IN', 'DT', 'JJ', 'NN', 'IN', 'VBG', 'DT', 'NN', 'VBN', 'RB', 'IN', 'NNP', ',', 'NNP', 'VBD', 'JJ', 'NN', ',', 'NN', ',', 'CC', 'JJ', 'NNS', '.']\n",
      "****************************************\n",
      "He skillfully balanced the imperatives of military necessity with his commitment to upholding the principles of liberty and democracy.\n",
      "Tokens:\n",
      "['He', 'skillfully', 'balanced', 'the', 'imperatives', 'of', 'military', 'necessity', 'with', 'his', 'commitment', 'to', 'upholding', 'the', 'principles', 'of', 'liberty', 'and', 'democracy', '.']\n",
      "Fine tags:\n",
      "['PRP', 'RB', 'VBD', 'DT', 'NNS', 'IN', 'JJ', 'NN', 'IN', 'PRP$', 'NN', 'IN', 'VBG', 'DT', 'NNS', 'IN', 'NN', 'CC', 'NN', '.']\n",
      "****************************************\n",
      "Throughout the war, Lincoln faced intense pressure from both within his own administration and from the broader public.\n",
      "Tokens:\n",
      "['Throughout', 'the', 'war', ',', 'Lincoln', 'faced', 'intense', 'pressure', 'from', 'both', 'within', 'his', 'own', 'administration', 'and', 'from', 'the', 'broader', 'public', '.']\n",
      "Fine tags:\n",
      "['IN', 'DT', 'NN', ',', 'NNP', 'VBD', 'JJ', 'NN', 'IN', 'CC', 'IN', 'PRP$', 'JJ', 'NN', 'CC', 'IN', 'DT', 'JJR', 'NN', '.']\n",
      "****************************************\n",
      "Critics assailed him for his handling of the conﬂict, while others questioned his leadership abilities.\n",
      "Tokens:\n",
      "['Critics', 'assailed', 'him', 'for', 'his', 'handling', 'of', 'the', 'conﬂict', ',', 'while', 'others', 'questioned', 'his', 'leadership', 'abilities', '.']\n",
      "Fine tags:\n",
      "['NNS', 'VBD', 'PRP', 'IN', 'PRP$', 'NN', 'IN', 'DT', 'NN', ',', 'IN', 'NNS', 'VBD', 'PRP$', 'NN', 'NNS', '.']\n",
      "****************************************\n",
      "Yet, Lincoln remained steadfast in his conviction that the Union must be preserved at all costs, declaring in his famous Gettysburg Address that the nation was \"dedicated to the proposition that all men are created equal. \"\n",
      "Tokens:\n",
      "['Yet', ',', 'Lincoln', 'remained', 'steadfast', 'in', 'his', 'conviction', 'that', 'the', 'Union', 'must', 'be', 'preserved', 'at', 'all', 'costs', ',', 'declaring', 'in', 'his', 'famous', 'Gettysburg', 'Address', 'that', 'the', 'nation', 'was', '\"', 'dedicated', 'to', 'the', 'proposition', 'that', 'all', 'men', 'are', 'created', 'equal', '.', '\"']\n",
      "Fine tags:\n",
      "['RB', ',', 'NNP', 'VBD', 'JJ', 'IN', 'PRP$', 'NN', 'IN', 'DT', 'NNP', 'MD', 'VB', 'VBN', 'IN', 'DT', 'NNS', ',', 'VBG', 'IN', 'PRP$', 'JJ', 'NNP', 'NNP', 'IN', 'DT', 'NN', 'VBD', '``', 'VBN', 'IN', 'DT', 'NN', 'IN', 'DT', 'NNS', 'VBP', 'VBN', 'JJ', '.', \"''\"]\n",
      "****************************************\n",
      "Emancipation Proclamation and the Fight for Freedom  One of Lincoln's most enduring legacies is his role in the abolition of slavery.\n",
      "Tokens:\n",
      "['Emancipation', 'Proclamation', 'and', 'the', 'Fight', 'for', 'Freedom', ' ', 'One', 'of', 'Lincoln', \"'s\", 'most', 'enduring', 'legacies', 'is', 'his', 'role', 'in', 'the', 'abolition', 'of', 'slavery', '.']\n",
      "Fine tags:\n",
      "['NNP', 'NNP', 'CC', 'DT', 'NNP', 'IN', 'NNP', '_SP', 'CD', 'IN', 'NNP', 'POS', 'RBS', 'JJ', 'NNS', 'VBZ', 'PRP$', 'NN', 'IN', 'DT', 'NN', 'IN', 'NN', '.']\n",
      "****************************************\n",
      "In 1863, he issued the Emancipation Proclamation, a watershed moment in American history that declared all slaves in Confederate-held territory to be \"forever free. \"\n",
      "Tokens:\n",
      "['In', '1863', ',', 'he', 'issued', 'the', 'Emancipation', 'Proclamation', ',', 'a', 'watershed', 'moment', 'in', 'American', 'history', 'that', 'declared', 'all', 'slaves', 'in', 'Confederate', '-', 'held', 'territory', 'to', 'be', '\"', 'forever', 'free', '.', '\"']\n",
      "Fine tags:\n",
      "['IN', 'CD', ',', 'PRP', 'VBD', 'DT', 'NNP', 'NNP', ',', 'DT', 'JJ', 'NN', 'IN', 'JJ', 'NN', 'WDT', 'VBD', 'DT', 'NNS', 'IN', 'NNP', 'HYPH', 'VBN', 'NN', 'TO', 'VB', '``', 'RB', 'JJ', '.', \"''\"]\n",
      "****************************************\n",
      "While the proclamation did not immediately abolish slavery in the Union or border states, it was a crucial step toward the eventual eradication of this abhorrent institution.\n",
      "Tokens:\n",
      "['While', 'the', 'proclamation', 'did', 'not', 'immediately', 'abolish', 'slavery', 'in', 'the', 'Union', 'or', 'border', 'states', ',', 'it', 'was', 'a', 'crucial', 'step', 'toward', 'the', 'eventual', 'eradication', 'of', 'this', 'abhorrent', 'institution', '.']\n",
      "Fine tags:\n",
      "['IN', 'DT', 'NN', 'VBD', 'RB', 'RB', 'VB', 'NN', 'IN', 'DT', 'NNP', 'CC', 'NN', 'NNS', ',', 'PRP', 'VBD', 'DT', 'JJ', 'NN', 'IN', 'DT', 'JJ', 'NN', 'IN', 'DT', 'JJ', 'NN', '.']\n",
      "****************************************\n",
      "Lincoln's commitment to emancipation was not merely a strategic wartime measure but reﬂected his deeply held moral convictions.\n",
      "Tokens:\n",
      "['Lincoln', \"'s\", 'commitment', 'to', 'emancipation', 'was', 'not', 'merely', 'a', 'strategic', 'wartime', 'measure', 'but', 'reﬂected', 'his', 'deeply', 'held', 'moral', 'convictions', '.']\n",
      "Fine tags:\n",
      "['NNP', 'POS', 'NN', 'IN', 'NN', 'VBD', 'RB', 'RB', 'DT', 'JJ', 'JJ', 'NN', 'CC', 'VBD', 'PRP$', 'RB', 'VBN', 'JJ', 'NNS', '.']\n",
      "****************************************\n",
      "He viewed slavery as a moral evil that was fundamentally incompatible with the principles of liberty and equality enshrined in the Declaration of Independence.\n",
      "Tokens:\n",
      "['He', 'viewed', 'slavery', 'as', 'a', 'moral', 'evil', 'that', 'was', 'fundamentally', 'incompatible', 'with', 'the', 'principles', 'of', 'liberty', 'and', 'equality', 'enshrined', 'in', 'the', 'Declaration', 'of', 'Independence', '.']\n",
      "Fine tags:\n",
      "['PRP', 'VBD', 'NN', 'IN', 'DT', 'JJ', 'NN', 'WDT', 'VBD', 'RB', 'JJ', 'IN', 'DT', 'NNS', 'IN', 'NN', 'CC', 'NN', 'VBN', 'IN', 'DT', 'NNP', 'IN', 'NNP', '.']\n",
      "****************************************\n",
      "By issuing the Emancipation Proclamation, Lincoln struck a decisive blow against the institution of slavery and laid the groundwork for its eventual abolition through the ratiﬁcation of the Thirteenth Amendment in 1865.\n",
      "Tokens:\n",
      "['By', 'issuing', 'the', 'Emancipation', 'Proclamation', ',', 'Lincoln', 'struck', 'a', 'decisive', 'blow', 'against', 'the', 'institution', 'of', 'slavery', 'and', 'laid', 'the', 'groundwork', 'for', 'its', 'eventual', 'abolition', 'through', 'the', 'ratiﬁcation', 'of', 'the', 'Thirteenth', 'Amendment', 'in', '1865', '.']\n",
      "Fine tags:\n",
      "['IN', 'VBG', 'DT', 'NNP', 'NNP', ',', 'NNP', 'VBD', 'DT', 'JJ', 'NN', 'IN', 'DT', 'NN', 'IN', 'NN', 'CC', 'VBD', 'DT', 'NN', 'IN', 'PRP$', 'JJ', 'NN', 'IN', 'DT', 'NN', 'IN', 'DT', 'NNP', 'NNP', 'IN', 'CD', '.']\n",
      "****************************************\n",
      "Legacy and Impact  Abraham Lincoln's presidency left an indelible mark on American history and society.\n",
      "Tokens:\n",
      "['Legacy', 'and', 'Impact', ' ', 'Abraham', 'Lincoln', \"'s\", 'presidency', 'left', 'an', 'indelible', 'mark', 'on', 'American', 'history', 'and', 'society', '.']\n",
      "Fine tags:\n",
      "['NN', 'CC', 'NNP', '_SP', 'NNP', 'NNP', 'POS', 'NN', 'VBD', 'DT', 'JJ', 'NN', 'IN', 'JJ', 'NN', 'CC', 'NN', '.']\n",
      "****************************************\n",
      "His leadership during the Civil War preserved the Union and laid the foundation for the nation's reuniﬁcation and reconciliation in the aftermath of the conﬂict.\n",
      "Tokens:\n",
      "['His', 'leadership', 'during', 'the', 'Civil', 'War', 'preserved', 'the', 'Union', 'and', 'laid', 'the', 'foundation', 'for', 'the', 'nation', \"'s\", 'reuniﬁcation', 'and', 'reconciliation', 'in', 'the', 'aftermath', 'of', 'the', 'conﬂict', '.']\n",
      "Fine tags:\n",
      "['PRP$', 'NN', 'IN', 'DT', 'NNP', 'NNP', 'VBD', 'DT', 'NNP', 'CC', 'VBD', 'DT', 'NN', 'IN', 'DT', 'NN', 'POS', 'NN', 'CC', 'NN', 'IN', 'DT', 'NN', 'IN', 'DT', 'NN', '.']\n",
      "****************************************\n",
      "His steadfast commitment to the principles of liberty, equality, and democracy inspired generations of Americans and continues to resonate in the ongoing struggle for justice and equality.\n",
      "Tokens:\n",
      "['His', 'steadfast', 'commitment', 'to', 'the', 'principles', 'of', 'liberty', ',', 'equality', ',', 'and', 'democracy', 'inspired', 'generations', 'of', 'Americans', 'and', 'continues', 'to', 'resonate', 'in', 'the', 'ongoing', 'struggle', 'for', 'justice', 'and', 'equality', '.']\n",
      "Fine tags:\n",
      "['PRP$', 'JJ', 'NN', 'IN', 'DT', 'NNS', 'IN', 'NN', ',', 'NN', ',', 'CC', 'NN', 'VBD', 'NNS', 'IN', 'NNPS', 'CC', 'VBZ', 'TO', 'VB', 'IN', 'DT', 'JJ', 'NN', 'IN', 'NN', 'CC', 'NN', '.']\n",
      "****************************************\n",
      "Lincoln's legacy extends far beyond his presidency.\n",
      "Tokens:\n",
      "['Lincoln', \"'s\", 'legacy', 'extends', 'far', 'beyond', 'his', 'presidency', '.']\n",
      "Fine tags:\n",
      "['NNP', 'POS', 'NN', 'VBZ', 'RB', 'IN', 'PRP$', 'NN', '.']\n",
      "****************************************\n",
      "His eloquent speeches, including the Gettysburg Address and his second inaugural address, remain iconic expressions of American values and ideals.\n",
      "Tokens:\n",
      "['His', 'eloquent', 'speeches', ',', 'including', 'the', 'Gettysburg', 'Address', 'and', 'his', 'second', 'inaugural', 'address', ',', 'remain', 'iconic', 'expressions', 'of', 'American', 'values', 'and', 'ideals', '.']\n",
      "Fine tags:\n",
      "['PRP$', 'JJ', 'NNS', ',', 'VBG', 'DT', 'NNP', 'NNP', 'CC', 'PRP$', 'JJ', 'JJ', 'NN', ',', 'VBP', 'JJ', 'NNS', 'IN', 'JJ', 'NNS', 'CC', 'NNS', '.']\n",
      "****************************************\n",
      "His leadership during a time of national crisis serves as a beacon of hope and resilience, demonstrating the transformative power of visionary leadership in times of adversity.\n",
      "Tokens:\n",
      "['His', 'leadership', 'during', 'a', 'time', 'of', 'national', 'crisis', 'serves', 'as', 'a', 'beacon', 'of', 'hope', 'and', 'resilience', ',', 'demonstrating', 'the', 'transformative', 'power', 'of', 'visionary', 'leadership', 'in', 'times', 'of', 'adversity', '.']\n",
      "Fine tags:\n",
      "['PRP$', 'NN', 'IN', 'DT', 'NN', 'IN', 'JJ', 'NN', 'VBZ', 'IN', 'DT', 'NN', 'IN', 'NN', 'CC', 'NN', ',', 'VBG', 'DT', 'JJ', 'NN', 'IN', 'JJ', 'NN', 'IN', 'NNS', 'IN', 'NN', '.']\n",
      "****************************************\n",
      "In conclusion, Abraham Lincoln's life and presidency embody the enduring principles of courage, integrity, and perseverance.\n",
      "Tokens:\n",
      "['In', 'conclusion', ',', 'Abraham', 'Lincoln', \"'s\", 'life', 'and', 'presidency', 'embody', 'the', 'enduring', 'principles', 'of', 'courage', ',', 'integrity', ',', 'and', 'perseverance', '.']\n",
      "Fine tags:\n",
      "['IN', 'NN', ',', 'NNP', 'NNP', 'POS', 'NN', 'CC', 'NN', 'VBP', 'DT', 'VBG', 'NNS', 'IN', 'NN', ',', 'NN', ',', 'CC', 'NN', '.']\n",
      "****************************************\n",
      "From his humble origins on the frontier to his pivotal role in shaping the course of American history, Lincoln's legacy as the \"Great Emancipator\" and champion of democracy endures as a testament to the power of leadership to transcend adversity and inspire positive change.\n",
      "Tokens:\n",
      "['From', 'his', 'humble', 'origins', 'on', 'the', 'frontier', 'to', 'his', 'pivotal', 'role', 'in', 'shaping', 'the', 'course', 'of', 'American', 'history', ',', 'Lincoln', \"'s\", 'legacy', 'as', 'the', '\"', 'Great', 'Emancipator', '\"', 'and', 'champion', 'of', 'democracy', 'endures', 'as', 'a', 'testament', 'to', 'the', 'power', 'of', 'leadership', 'to', 'transcend', 'adversity', 'and', 'inspire', 'positive', 'change', '.']\n",
      "Fine tags:\n",
      "['IN', 'PRP$', 'JJ', 'NNS', 'IN', 'DT', 'NN', 'IN', 'PRP$', 'JJ', 'NN', 'IN', 'VBG', 'DT', 'NN', 'IN', 'JJ', 'NN', ',', 'NNP', 'POS', 'NN', 'IN', 'DT', '``', 'NNP', 'NNP', \"''\", 'CC', 'NN', 'IN', 'NN', 'VBZ', 'IN', 'DT', 'NN', 'IN', 'DT', 'NN', 'IN', 'NN', 'TO', 'VB', 'NN', 'CC', 'VB', 'JJ', 'NN', '.']\n",
      "****************************************\n",
      "As we reﬂect on his life and legacy, we are reminded of the profound impact that one individual can have in shaping the destiny of a nation and the course of human history.\n",
      "Tokens:\n",
      "['As', 'we', 'reﬂect', 'on', 'his', 'life', 'and', 'legacy', ',', 'we', 'are', 'reminded', 'of', 'the', 'profound', 'impact', 'that', 'one', 'individual', 'can', 'have', 'in', 'shaping', 'the', 'destiny', 'of', 'a', 'nation', 'and', 'the', 'course', 'of', 'human', 'history', '.']\n",
      "Fine tags:\n",
      "['IN', 'PRP', 'VBP', 'IN', 'PRP$', 'NN', 'CC', 'NN', ',', 'PRP', 'VBP', 'VBN', 'IN', 'DT', 'JJ', 'NN', 'WDT', 'CD', 'NN', 'MD', 'VB', 'IN', 'VBG', 'DT', 'NN', 'IN', 'DT', 'NN', 'CC', 'DT', 'NN', 'IN', 'JJ', 'NN', '.']\n"
     ]
    }
   ],
   "source": [
    "import spacy\n",
    "\n",
    "# This will do tokenization, tagging and parsing\n",
    "nlp = spacy.load(\"en_core_web_sm\")\n",
    "\n",
    "for sent in tokens:\n",
    "  print (\"****************************************\")\n",
    "  print (sent)\n",
    "  processed_sent = nlp(sent)\n",
    "  # See tokenization results\n",
    "  print (f\"Tokens:\")\n",
    "  tokens = [token.text for token in processed_sent]\n",
    "  print (tokens)\n",
    "\n",
    "  # Fine tagging\n",
    "  print (f\"Fine tags:\")\n",
    "  tags = [token.tag_ for token in processed_sent]\n",
    "  print (tags)\n"
   ]
  },
  {
   "cell_type": "markdown",
   "metadata": {},
   "source": [
    "### b) Analyze the frequency distribution of POS tags in the text. Which POS tags are most frequent, and what do they signify about the article? Share your insights.  \n",
    "\n",
    "This is an open ended question and a decent explanation will fetch full marks. "
   ]
  },
  {
   "cell_type": "code",
   "execution_count": null,
   "metadata": {},
   "outputs": [],
   "source": []
  }
 ],
 "metadata": {
  "kernelspec": {
   "display_name": "Python 3",
   "language": "python",
   "name": "python3"
  },
  "language_info": {
   "codemirror_mode": {
    "name": "ipython",
    "version": 3
   },
   "file_extension": ".py",
   "mimetype": "text/x-python",
   "name": "python",
   "nbconvert_exporter": "python",
   "pygments_lexer": "ipython3",
   "version": "3.10.13"
  }
 },
 "nbformat": 4,
 "nbformat_minor": 2
}

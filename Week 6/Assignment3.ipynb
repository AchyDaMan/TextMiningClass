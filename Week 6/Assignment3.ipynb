{
  "nbformat": 4,
  "nbformat_minor": 0,
  "metadata": {
    "colab": {
      "provenance": [],
      "authorship_tag": "ABX9TyPj6Ccw9Pq/vRcnXnqi8vu9",
      "include_colab_link": true
    },
    "kernelspec": {
      "name": "python3",
      "display_name": "Python 3"
    },
    "language_info": {
      "name": "python"
    }
  },
  "cells": [
    {
      "cell_type": "markdown",
      "metadata": {
        "id": "view-in-github",
        "colab_type": "text"
      },
      "source": [
        "<a href=\"https://colab.research.google.com/github/AchyDaMan/TextMiningClass/blob/main/Week%206/Assignment3.ipynb\" target=\"_parent\"><img src=\"https://colab.research.google.com/assets/colab-badge.svg\" alt=\"Open In Colab\"/></a>"
      ]
    },
    {
      "cell_type": "markdown",
      "source": [
        "# Assignment 3: Hashtag based Tweet search\n",
        "\n",
        "We will extend Assignment 2 and work on building a vector based search for hashtag based search of tweets.\n",
        "\n",
        "Overview:\n",
        "Welcome to TweetMiner, the leading organization in Twitter data analysis! As an NLP scientist in our team, you're entrusted with the task of extracting the most relevant tweets based on input hashtags. For instance, if the hashtag is \"#abortion,\" we expect you to extract the top N (let's say N=10) tweets that truly discuss the topic of \"abortion.\" Similarly, for a hashtag like \"#politicaladvertising,\" your algorithm should identify and extract the top N (again, let's use N=10) tweets about \"political advertising\".\n",
        "For this assignment your tasks are the following:"
      ],
      "metadata": {
        "id": "4Wg4-r1-u7uO"
      }
    },
    {
      "cell_type": "markdown",
      "source": [
        "## Task 1: Use CountVectorizer (binary = true) vectorization technique and perform search\n",
        "\n",
        "### Processing Tweets:\n",
        "1. Pre-process tweets using applicable pre-processing techniques.\n"
      ],
      "metadata": {
        "id": "KWyn0NixzDUo"
      }
    },
    {
      "cell_type": "code",
      "execution_count": 1,
      "metadata": {
        "colab": {
          "base_uri": "https://localhost:8080/"
        },
        "id": "vEDcivGEu5bQ",
        "outputId": "e121353c-2efc-42e1-d6e3-0645f595e8f3"
      },
      "outputs": [
        {
          "output_type": "stream",
          "name": "stdout",
          "text": [
            "347192\n",
            "264734\n",
            "['', 'This is great but I hope theres more action and less report writing Labor commits to a Youth Minister and pledges over 3m to support young Aussies  electionwire myvote auspol', 'And still morons will vote themselves into poverty to line the pockets of the Liberals and their rich sponsors auspol Keating ', 'auspol AusVotes2019 ', 'By far the best Ive seen this campaign AusVotes2019 auspol ausvotes ', 'Malta', 'Schools', 'FiWillan Lets get this right a poll just said climate change was 4th most important but you spent the MOST time on it hrmmm auspol ausvotes 9NewsMelb activist journos are getting desperate LNP', 'A spot of letterboxing for brettfornorthsydney this afternoon ', 'A question I could ask to my students  during my stats course find possible confounding variables explaining why in Australia opinions polls are consistently wronged on election days auspol AusVotes2019 stats']\n"
          ]
        }
      ],
      "source": [
        "# first load file! same as Assignment 2\n",
        "with open(\"australian_election_2019_tweets.txt\") as f:\n",
        "    list_tweets = f.read().splitlines()\n",
        "\n"
      ]
    },
    {
      "cell_type": "markdown",
      "source": [
        "2. Vectorize pre-processed tweets with CountVectorizer (binary = true) . This will create sparse vectors of tweets based on its vocabulary."
      ],
      "metadata": {
        "id": "d-JPpE0AzNBS"
      }
    }
  ]
}